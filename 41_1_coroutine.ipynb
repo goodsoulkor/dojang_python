{
 "cells": [
  {
   "cell_type": "markdown",
   "metadata": {},
   "source": [
    "# unit 41. 코루틴에 값 보내기\n",
    "\n",
    "## 코루틴 사용하기\n",
    "지금까지 함수를 호출한 뒤 함수가 끝나면 현재 코드로 다시 돌아왔다.\n",
    "예를 들어 calc 함수 안에서 add 함수를 호출했을 때 add 함수가 끝나면 calc 함수로 돌아온다.\n",
    "특히 add 함수가 끝나면 이 함수에 들어있던 변수와 계산식은 모두 사라진다."
   ]
  },
  {
   "cell_type": "code",
   "execution_count": 1,
   "metadata": {},
   "outputs": [
    {
     "name": "stdout",
     "output_type": "stream",
     "text": [
      "3\n",
      "add 함수\n",
      "calc 함수\n"
     ]
    }
   ],
   "source": [
    "def add(a, b):\n",
    "    c = a + b  # add 함수가 끝나면 변수와 계산식은 사라짐\n",
    "    print(c)\n",
    "    print(\"add 함수\")\n",
    "\n",
    "def calc():\n",
    "    add(1, 2)  # add 함수가 끝나면 다시 calc 함수로 돌아옴\n",
    "    print(\"calc 함수\")\n",
    "\n",
    "calc()"
   ]
  },
  {
   "cell_type": "markdown",
   "metadata": {},
   "source": [
    "calc가 메인 루틴이면 add는 calc의 서브 루틴이다.\n",
    "![메인 루틴과 서브루틴의 동작 과정](https://dojang.io/pluginfile.php/13976/mod_page/content/3/041001.png)\n",
    "메인 루틴에서 서브 루틴을 호출하면 서브 루틴의 코드를 실행한 뒤 다시 메인 루틴으로 돌아온다.\n",
    "특히 서브 루틴이 끝나면 서브 루틴의 내용은 모두 사라진다.\n",
    "즉, 서브 루틴은 메인 루틴에 종속된 관계이다.\n",
    "\n",
    "하지만 코루틴은 방식이 다르다.\n",
    "코루틴(coroutine)은 cooperative routine을 의미하는데 서로 협력하는 루틴이라는 뜻이다.\n",
    "즉, 메인 루틴과 서브 루틴처럼 종속된 관계가 아닌 서로 대등한 관계이며 특정 시점에 상대방의 코드를 실행한다.\n",
    "\n",
    "![코루틴의 동작 과정](https://dojang.io/pluginfile.php/13976/mod_page/content/3/041002.png)\n",
    "\n",
    "이처럼 코루틴은 함수가 종료되지 않은 상태에서 메인 루틴의 코드를 실행한 뒤 다시 돌아와 코루틴의 코드를 실행한다.\n",
    "코루틴이 종료되지 않았으므로 코루틴의 내용도 계속 유지된다."
   ]
  },
  {
   "cell_type": "markdown",
   "metadata": {},
   "source": [
    "## 코루틴에 값 보내기\n",
    "\n",
    "코루틴은 제너레이터의 특별한 형태이다. 제너레이터는 yield로 값을 발생시켰지만 코루틴은 yield로 값을 받아올 수 있다.\n",
    "다음과 같이 코루틴에 값을 보내면서 코드를 실행할 때는 send 메서드를 사용한다.\n",
    "send 메서드가 보낸 값을 받아오려면 (yield) 형식으로 yield를 괄호로 묶어준 뒤 변수에 저장한다.\n",
    "- 코루틴캑체.send(값)\n",
    "- 변수 = (yield)"
   ]
  },
  {
   "cell_type": "code",
   "execution_count": 2,
   "metadata": {},
   "outputs": [
    {
     "name": "stdout",
     "output_type": "stream",
     "text": [
      "1\n",
      "2\n",
      "3\n"
     ]
    }
   ],
   "source": [
    "# 코루틴에 숫자 1, 2, 3 보내기\n",
    "\n",
    "def number_coroutine():\n",
    "    while True:  # 코루틴을 계속 유지하기 위해 무한 루프 사용\n",
    "        x = (yield)  # 코루틴 바깥에서 값을 받아옴\n",
    "        print(x)\n",
    "\n",
    "co = number_coroutine()\n",
    "next(co)  # 코루틴 안에 yield까지 코드 실행(최초 실행)\n",
    "\n",
    "co.send(1)  # 코루틴에 숫자 1을 보냄\n",
    "co.send(2)  # 코루틴에 숫자 2를 보냄\n",
    "co.send(3)  # 코루틴에 숫자 3을 보냄"
   ]
  },
  {
   "cell_type": "markdown",
   "metadata": {},
   "source": [
    "이 코루틴의 동작 과정\n",
    "![코루틴의 코드를 최초로 실행한 뒤 메인 루틴으로 돌아옴](https://dojang.io/pluginfile.php/13976/mod_page/content/3/041003.png)\n",
    "\n",
    "> 코루틴은 yield에서 함수 중간에 대기한 다음에 메인 루틴을 실행하다가 다시 코루틴을 실행한다."
   ]
  },
  {
   "cell_type": "markdown",
   "metadata": {},
   "source": [
    "> 참고: send로 코루틴 코드를 최초로 실행하기\n",
    "> \n",
    "> 지금까지 코루틴의 코드를 최초로 실행할 때 next 함수(```__next__``` 메서드)를 사용했지만, 코루틴 객체.send(None)과 같이 send 메서드에 None을 지정해도 코루틴의 코드를 최초로 실행할 수 있다."
   ]
  }
 ],
 "metadata": {
  "kernelspec": {
   "display_name": "Python 3.10.4 ('basic')",
   "language": "python",
   "name": "python3"
  },
  "language_info": {
   "codemirror_mode": {
    "name": "ipython",
    "version": 3
   },
   "file_extension": ".py",
   "mimetype": "text/x-python",
   "name": "python",
   "nbconvert_exporter": "python",
   "pygments_lexer": "ipython3",
   "version": "3.10.4"
  },
  "orig_nbformat": 4,
  "vscode": {
   "interpreter": {
    "hash": "c8f0a417b36daf86aafec4013139ac5baf8e417b175f66de0fc0829ed0d1013f"
   }
  }
 },
 "nbformat": 4,
 "nbformat_minor": 2
}
