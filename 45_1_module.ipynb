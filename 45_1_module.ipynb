{
 "cells": [
  {
   "cell_type": "markdown",
   "metadata": {},
   "source": [
    "# Unit 45. 모듈과 패키지 만들기\n",
    "\n",
    "매번 비슷한 클래스와 함수를 작성한다면 코드도 길어지고 중복되는 부분이 생긴다.\n",
    "이런 경우에는 공통되는 부분을 빼내서 모듈과 패키지로 만든다.\n",
    "\n",
    "모듈은 변수, 함수, 클래스 등을 모아 놓은 스크립트 파일이고, 패키지는 여러 모듈을 묶은 것이다.\n",
    "\n",
    "## 45.1 모듈 만들기\n",
    "\n",
    "2의 거듭제곱을 구하는 모듈 만들기\n",
    "변수와 함수를 넣어 square2.py를 만든다.\n",
    "\n",
    "### 45.1.1 모듈 사용하기\n",
    "\n",
    "- import 모듈\n",
    "  - 모듈.변수\n",
    "  - 모듈.함수()"
   ]
  },
  {
   "cell_type": "code",
   "execution_count": 1,
   "metadata": {},
   "outputs": [
    {
     "name": "stdout",
     "output_type": "stream",
     "text": [
      "2\n",
      "1024\n"
     ]
    }
   ],
   "source": [
    "# main.py\n",
    "import square2\n",
    "\n",
    "print(square2.base)\n",
    "print(square2.square(10))"
   ]
  },
  {
   "cell_type": "markdown",
   "metadata": {},
   "source": [
    "### 45.1.2 from import로 변수, 함수 가져오기\n",
    "\n",
    "- from 모듈 import 변수, 함수"
   ]
  },
  {
   "cell_type": "code",
   "execution_count": 2,
   "metadata": {},
   "outputs": [
    {
     "name": "stdout",
     "output_type": "stream",
     "text": [
      "2\n",
      "1024\n"
     ]
    }
   ],
   "source": [
    "from square2 import base, square\n",
    "\n",
    "print(base)\n",
    "print(square(10))"
   ]
  },
  {
   "cell_type": "markdown",
   "metadata": {},
   "source": [
    "### 45.1.3 모듈에서 클래스 작성하기\n",
    "\n",
    "동일한 폴더에 person.py 를 작성한다."
   ]
  },
  {
   "cell_type": "code",
   "execution_count": 3,
   "metadata": {},
   "outputs": [
    {
     "name": "stdout",
     "output_type": "stream",
     "text": [
      "Hi I am maria\n"
     ]
    }
   ],
   "source": [
    "# main.py\n",
    "import person\n",
    "\n",
    "maria = person.Person(\"maria\", 20, \"Seoul Seocho Banpo\")\n",
    "maria.greeting()"
   ]
  },
  {
   "cell_type": "markdown",
   "metadata": {},
   "source": [
    "### 45.1.4 from import로 클래스 가져오기\n",
    "\n",
    "- from 모듈 import 클래스"
   ]
  },
  {
   "cell_type": "code",
   "execution_count": 4,
   "metadata": {},
   "outputs": [
    {
     "name": "stdout",
     "output_type": "stream",
     "text": [
      "Hi I am maria\n"
     ]
    }
   ],
   "source": [
    "from person import Person\n",
    "\n",
    "maria = Person(\"maria\", 20, \"Seoul Seocho Banpo\")\n",
    "maria.greeting()"
   ]
  },
  {
   "cell_type": "markdown",
   "metadata": {},
   "source": [
    "## 45.2 모듈과 시작점 알아보기\n",
    "\n",
    "```python\n",
    "if __name__ == \"__main__\":\n",
    "    code\n",
    "```\n",
    "현재 스크립트 파일이 실행되는 상태를 파악하기 위해 사용하는 코드\n",
    "\n",
    "```__name__``` 알아보기\n",
    "```python\n",
    "# hello.py\n",
    "print(\"hello 모듈 시작\")\n",
    "print(\"hello.py __name__:\", __name__)\n",
    "print(\"hello 모듈 끝\")\n",
    "```"
   ]
  },
  {
   "cell_type": "code",
   "execution_count": 5,
   "metadata": {},
   "outputs": [
    {
     "name": "stdout",
     "output_type": "stream",
     "text": [
      "hello 모듈 시작\n",
      "hello.py __name__: hello\n",
      "hello 모듈 끝\n",
      "main.py __name__ __main__\n"
     ]
    }
   ],
   "source": [
    "# main.py\n",
    "import hello\n",
    "\n",
    "print(\"main.py __name__\", __name__)"
   ]
  },
  {
   "cell_type": "markdown",
   "metadata": {},
   "source": [
    "hello.py 파일과 main.py 파일의 ```__name__``` 변수값이 출력된다.\n",
    "파이썬에서 import로 모듈을 가져오면 해당 스크립트 파일이 한번 실행된다.\n",
    "따라서 hello 모듈을 가져오면 hello.py 안의 코드가 실행된다.\n",
    "hello.py의 ```__name__``` 변수에는 hello가 들어가고 main.py의 `__name__` 변수에는 `__main__`이 들어간다.\n",
    "\n",
    "즉, `__name__`은 모듈의 이름이 저장되는 변수이며 import로 모듈을 가져왔을 때 모듈의 이름이 들어간다. 하지만 파이썬 인터프리터로 스크립트 파일을 직접 실행했을 때는 모듈의 이름이 아니라 `__main__`이 들어간다."
   ]
  },
  {
   "cell_type": "markdown",
   "metadata": {},
   "source": [
    "콘솔에서 python으로 main.py 파일을 실행하면 다음과 같이 출력된다.\n",
    "```shell\n",
    "> python main.py\n",
    "hello 모듈 시작\n",
    "hello.py __name__: hello\n",
    "hello 모듈 끝\n",
    "main.py __name__: __main__\n",
    "```\n",
    "\n",
    "python으로 hello.py 파일을 실행하면\n",
    "```shell\n",
    "> python hello.py\n",
    "hello 모듈 시작\n",
    "hello.py __name__: __main__\n",
    "hello 모듈 끝\n",
    "```\n",
    "\n",
    "즉, 어떤 스크립트 파일이든 파이썬 인터프리터가 최초로 실행한 스크립트 파일의 `__name__`에는 `__main__`이 들어간다. 이는 프로그램의 시작점이라는 뜻이다.\n",
    "\n",
    "파이썬에서는 어떤 스크립트 파일이든 시작점도 될 수 있고 모듈도 될 수 있다. 그래서 `__name__` 변수를 통해 현재 스크립트 파일이 시작점인지 판단한다."
   ]
  },
  {
   "cell_type": "markdown",
   "metadata": {},
   "source": [
    "### 45.2.1 스크립트 파일로 실행하거나 모듈로 사용하는 코드 만들기\n",
    "\n",
    "calc.py 파일 작성"
   ]
  },
  {
   "cell_type": "code",
   "execution_count": 6,
   "metadata": {},
   "outputs": [
    {
     "name": "stdout",
     "output_type": "stream",
     "text": [
      "110\n",
      "3000\n"
     ]
    }
   ],
   "source": [
    "# calc를 모듈로 사용\n",
    "import calc\n",
    "\n",
    "print(calc.add(50, 60))\n",
    "print(calc.mul(50, 60))"
   ]
  },
  {
   "cell_type": "markdown",
   "metadata": {},
   "source": [
    "## 45.3 패키지 만들기\n",
    "\n",
    "패키지는 폴더(디렉터리)로 구성됨\n",
    "\n",
    "![패키지 폴더 구성](https://dojang.io/pluginfile.php/14075/mod_page/content/5/045005.png)"
   ]
  },
  {
   "cell_type": "markdown",
   "metadata": {},
   "source": [
    "calcpkg 폴더를 만들고 폴더 안에 `__init__.py` 파일 저장\n",
    "```python\n",
    "# __init__.py 파일은 내용을 비워 둘 수 있음\n",
    "```\n",
    "폴더 안에 `__init__.py` 파일이 있으면 해당 폴더는 패키지로 인식된다."
   ]
  },
  {
   "cell_type": "markdown",
   "metadata": {},
   "source": [
    "### 45.3.1 패키지에 모듈 만들기\n",
    "\n",
    "calcpkg에 모듈 두 개 만들기\n",
    "1. 덧셈, 곱셈 함수가 있는 operation 모듈\n",
    "2. 삼각형, 사각형의 넓이 계산 함수가 있는 geometry 모듈"
   ]
  },
  {
   "cell_type": "markdown",
   "metadata": {},
   "source": [
    "### 45.3.2 패키지 사용하기\n",
    "\n",
    "- import 패키지.모듈\n",
    "- 패키지.모듈.변수\n",
    "- 패키지.모듈.함수()\n",
    "- 패키지.모듈.클래스()"
   ]
  },
  {
   "cell_type": "code",
   "execution_count": 7,
   "metadata": {},
   "outputs": [
    {
     "name": "stdout",
     "output_type": "stream",
     "text": [
      "30\n",
      "200\n",
      "600.0\n",
      "1200\n"
     ]
    }
   ],
   "source": [
    "# main.py\n",
    "import calcpkg.operation\n",
    "import calcpkg.geometry\n",
    "\n",
    "print(calcpkg.operation.add(10, 20))\n",
    "print(calcpkg.operation.mul(10, 20))\n",
    "\n",
    "print(calcpkg.geometry.triangle_area(30, 40))\n",
    "print(calcpkg.geometry.rectangle_area(30, 40))"
   ]
  },
  {
   "cell_type": "markdown",
   "metadata": {},
   "source": [
    "### 45.3.3 from import로 패키지의 모듈에서 변수, 함수, 클래스 가져오기\n",
    "\n",
    "- from 패키지.모듈 import 변수\n",
    "- from 패키지.모듈 import 함수\n",
    "- from 패키지.모듈 import 클래스"
   ]
  },
  {
   "cell_type": "code",
   "execution_count": 8,
   "metadata": {},
   "outputs": [
    {
     "name": "stdout",
     "output_type": "stream",
     "text": [
      "30\n",
      "200\n"
     ]
    }
   ],
   "source": [
    "from calcpkg.operation import add, mul\n",
    "\n",
    "print(add(10, 20))\n",
    "print(mul(10, 20))"
   ]
  },
  {
   "cell_type": "markdown",
   "metadata": {},
   "source": [
    "## 45.4 패키지에서 from import 응용하기\n",
    "\n",
    "import calcpkg 처럼 import 패키지 형식으로 패키지만 가져와서 모듈 사용하려면\n",
    "`__init__.py` 파일을 다음과 같이 수정한다.\n",
    "\n",
    "```python\n",
    "from . import operation\n",
    "from . import geometry\n",
    "```"
   ]
  },
  {
   "cell_type": "code",
   "execution_count": 9,
   "metadata": {},
   "outputs": [
    {
     "name": "stdout",
     "output_type": "stream",
     "text": [
      "30\n",
      "200\n",
      "600.0\n",
      "1200\n"
     ]
    }
   ],
   "source": [
    "import calcpkg2\n",
    "\n",
    "print(calcpkg2.operation.add(10, 20))\n",
    "print(calcpkg2.operation.mul(10, 20))\n",
    "\n",
    "print(calcpkg2.geometry.triangle_area(30, 40))\n",
    "print(calcpkg2.geometry.rectangle_area(30, 40))\n",
    "\n",
    "del calcpkg2"
   ]
  },
  {
   "cell_type": "markdown",
   "metadata": {},
   "source": [
    "### 45.4.1 from import로 패키지에 속한 모든 변수, 함수, 클래스 가져오기\n",
    "\n",
    "- from 패키지 import *"
   ]
  },
  {
   "cell_type": "code",
   "execution_count": 10,
   "metadata": {},
   "outputs": [
    {
     "name": "stdout",
     "output_type": "stream",
     "text": [
      "30\n",
      "200\n",
      "600.0\n",
      "1200\n"
     ]
    }
   ],
   "source": [
    "from calcpkg2 import *\n",
    "\n",
    "print(add(10, 20))\n",
    "print(mul(10, 20))\n",
    "\n",
    "print(triangle_area(30, 40))\n",
    "print(rectangle_area(30, 40))"
   ]
  },
  {
   "cell_type": "markdown",
   "metadata": {},
   "source": [
    "이렇게 하면 에러가 발생하는데 이때는 `__init__.py` 에서 모듈 안의 함수를 가져오게 만들어야 한다.\n",
    "- from .모듈 import 변수, 함수, 클래스"
   ]
  },
  {
   "cell_type": "code",
   "execution_count": 11,
   "metadata": {},
   "outputs": [
    {
     "name": "stdout",
     "output_type": "stream",
     "text": [
      "30\n",
      "200\n",
      "600.0\n",
      "1200\n"
     ]
    }
   ],
   "source": [
    "from calcpkg2 import *\n",
    "\n",
    "print(add(10, 20))\n",
    "print(mul(10, 20))\n",
    "\n",
    "print(triangle_area(30, 40))\n",
    "print(rectangle_area(30, 40))"
   ]
  },
  {
   "cell_type": "markdown",
   "metadata": {},
   "source": [
    "> 참고: `__all__`로 필요한 것만 공개하기\n",
    "> `__init__.py`에서 `__all__`에 공개할 모듈 변수, 함수, 클래스를 리스트 형태로 지정한다.\n",
    "\n",
    "```python\n",
    "__all__ = [\"add\", \"triangle_area\"]\n",
    "\n",
    "from .operation import *\n",
    "from .geometry import *"
   ]
  }
 ],
 "metadata": {
  "kernelspec": {
   "display_name": "Python 3.10.4 ('basic')",
   "language": "python",
   "name": "python3"
  },
  "language_info": {
   "codemirror_mode": {
    "name": "ipython",
    "version": 3
   },
   "file_extension": ".py",
   "mimetype": "text/x-python",
   "name": "python",
   "nbconvert_exporter": "python",
   "pygments_lexer": "ipython3",
   "version": "3.10.4"
  },
  "orig_nbformat": 4,
  "vscode": {
   "interpreter": {
    "hash": "c8f0a417b36daf86aafec4013139ac5baf8e417b175f66de0fc0829ed0d1013f"
   }
  }
 },
 "nbformat": 4,
 "nbformat_minor": 2
}
