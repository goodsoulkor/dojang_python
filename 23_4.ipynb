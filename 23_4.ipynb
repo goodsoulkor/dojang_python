{
 "cells": [
  {
   "cell_type": "markdown",
   "metadata": {},
   "source": [
    "## 23.4 2차원 리스트의 할당과 복사"
   ]
  },
  {
   "cell_type": "code",
   "execution_count": 1,
   "metadata": {},
   "outputs": [
    {
     "name": "stdout",
     "output_type": "stream",
     "text": [
      "[[500, 20], [30, 40]]\n",
      "[[500, 20], [30, 40]]\n"
     ]
    }
   ],
   "source": [
    "a = [[10, 20], [30, 40]]\n",
    "b = a\n",
    "b[0][0] = 500\n",
    "print(a)\n",
    "print(b)"
   ]
  },
  {
   "cell_type": "code",
   "execution_count": 2,
   "metadata": {},
   "outputs": [
    {
     "name": "stdout",
     "output_type": "stream",
     "text": [
      "[[500, 20], [30, 40]]\n",
      "[[500, 20], [30, 40]]\n"
     ]
    }
   ],
   "source": [
    "a = [[10, 20], [30, 40]]\n",
    "b = a.copy()\n",
    "b[0][0] = 500\n",
    "print(a)\n",
    "print(b)"
   ]
  },
  {
   "cell_type": "code",
   "execution_count": 3,
   "metadata": {},
   "outputs": [
    {
     "name": "stdout",
     "output_type": "stream",
     "text": [
      "[[10, 20], [30, 40]]\n",
      "[[500, 20], [30, 40]]\n"
     ]
    }
   ],
   "source": [
    "# 2차원 이상의 다차원 리스트는 완전히 복사하려면 copy 모듈의 deepcopy 함수를 사용해야 한다.\n",
    "import copy\n",
    "a = [[10, 20], [30, 40]]\n",
    "b = copy.deepcopy(a)\n",
    "b[0][0] = 500\n",
    "print(a)\n",
    "print(b)"
   ]
  },
  {
   "cell_type": "code",
   "execution_count": null,
   "metadata": {},
   "outputs": [],
   "source": []
  }
 ],
 "metadata": {
  "kernelspec": {
   "display_name": "Python 3.10.4 ('python_basic')",
   "language": "python",
   "name": "python3"
  },
  "language_info": {
   "codemirror_mode": {
    "name": "ipython",
    "version": 3
   },
   "file_extension": ".py",
   "mimetype": "text/x-python",
   "name": "python",
   "nbconvert_exporter": "python",
   "pygments_lexer": "ipython3",
   "version": "3.10.4"
  },
  "orig_nbformat": 4,
  "vscode": {
   "interpreter": {
    "hash": "6ce0904d24b1247bee41f51457056f4c118aac598714269e8b4d39b1dc521c2c"
   }
  }
 },
 "nbformat": 4,
 "nbformat_minor": 2
}
