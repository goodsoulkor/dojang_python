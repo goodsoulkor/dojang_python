{
 "cells": [
  {
   "cell_type": "markdown",
   "metadata": {},
   "source": [
    "# 41.4 하위 코루틴의 반환값 가져오기\n",
    "\n",
    "yield from에 코루틴을 지정하면 해당 코루틴에서 return으로 반환한 값을 가져온다.\n",
    "- ```변수 = yield from 코루틴()```"
   ]
  },
  {
   "cell_type": "code",
   "execution_count": 1,
   "metadata": {},
   "outputs": [
    {
     "name": "stdout",
     "output_type": "stream",
     "text": [
      "55\n",
      "5050\n"
     ]
    }
   ],
   "source": [
    "# 코루틴에서 숫자를 누적한 뒤 합계를 yield from으로 가져오기\n",
    "def accumulate():\n",
    "    total = 0\n",
    "    while True:\n",
    "        x = (yield)  # 코루틴 바깥에서 값을 받아옴\n",
    "        if x is None:\n",
    "            return total  # 합계 total을 반환\n",
    "        total += x\n",
    "\n",
    "def sum_coroutine():\n",
    "    while True:\n",
    "        total = yield from accumulate()  # accumulate의 반환값을 가져옴\n",
    "        print(total)\n",
    "# 코루틴에서 yield from을 사용하면 코루틴 바깥에서 send로 하위 코루틴까지 값을 보낼 수 있다.\n",
    "\n",
    "co = sum_coroutine()\n",
    "next(co)\n",
    "\n",
    "for i in range(1, 11):\n",
    "    co.send(i)\n",
    "co.send(None)  # 코루틴 accumulate에 None을 보내 누적을 끝냄\n",
    "\n",
    "for i in range(1, 101):\n",
    "    co.send(i)\n",
    "co.send(None)"
   ]
  },
  {
   "cell_type": "markdown",
   "metadata": {},
   "source": [
    "## StopIteration 예외 발생\n",
    "코루틴도 제너레이터이므로 return을 사용하면 StopIteration이 발생\n",
    "그래서 코루틴에서 return 값은 raise StopIteration(값) 처럼 사용할 수 있다.\n",
    "raise로 StopIteration 예외를 직접 발생시키고 값을 지정하면 yield from으로 값을 가져올 수 있다.(파이썬 3.6 이하)\n",
    "\n",
    "파이썬 3.7 부터는 제너레이터 안에서 StopIteration 예외를 직접 발생 시키면 RuntimeError로 바뀌므로 그냥 return을 사용\n",
    "- ```raise StopIteration(값)```"
   ]
  },
  {
   "cell_type": "code",
   "execution_count": 3,
   "metadata": {},
   "outputs": [],
   "source": [
    "# def accumulate():\n",
    "#     total = 0\n",
    "#     while True:\n",
    "#         x = (yield)\n",
    "#         if x is None:\n",
    "#             raise StopIteration(total)  # StopIteration에 반환할 값을 지정(파이썬 3.6 이하)\n",
    "#         total += x\n",
    "\n",
    "# def sum_coroutine():\n",
    "#     while True:\n",
    "#         total = yield from accumulate()\n",
    "#         print(total)\n",
    "\n",
    "# co = sum_coroutine()\n",
    "# next(co)\n",
    "\n",
    "# for i in range(1, 11):\n",
    "#     co.send(i)\n",
    "# co.send(None)\n",
    "\n",
    "# for i in range(1, 101):\n",
    "#     co.send(i)\n",
    "# co.send(None)"
   ]
  },
  {
   "cell_type": "markdown",
   "metadata": {},
   "source": [
    "## 코루틴의 yield from 으로 값 발생시키기\n",
    "\n",
    "코루틴에서 yield에 값을 지정해서 바깥으로 전달했다면 yield from은 해당 값을 다시 바깥으로 전달한다."
   ]
  },
  {
   "cell_type": "code",
   "execution_count": 4,
   "metadata": {},
   "outputs": [
    {
     "name": "stdout",
     "output_type": "stream",
     "text": [
      "1\n",
      "2\n",
      "print_coroutine: 3\n"
     ]
    }
   ],
   "source": [
    "def number_coroutine():\n",
    "    x = None\n",
    "    while True:\n",
    "        x = (yield x)  # 코루틴 바깥에서 값을 받아오면서 바깥으로 값을 전달\n",
    "        if x == 3:\n",
    "            return x\n",
    "\n",
    "def print_coroutine():\n",
    "    while True:\n",
    "        x = yield from number_coroutine()  # 하위 코루틴 yield에 지정된 값을 다시 바깥으로 전달.\n",
    "        print(\"print_coroutine:\", x)\n",
    "\n",
    "co = print_coroutine()\n",
    "next(co)\n",
    "\n",
    "x = co.send(1)\n",
    "print(x)\n",
    "x = co.send(2)\n",
    "print(x)\n",
    "co.send(3)"
   ]
  }
 ],
 "metadata": {
  "kernelspec": {
   "display_name": "Python 3.10.4 ('basic')",
   "language": "python",
   "name": "python3"
  },
  "language_info": {
   "codemirror_mode": {
    "name": "ipython",
    "version": 3
   },
   "file_extension": ".py",
   "mimetype": "text/x-python",
   "name": "python",
   "nbconvert_exporter": "python",
   "pygments_lexer": "ipython3",
   "version": "3.10.4"
  },
  "orig_nbformat": 4,
  "vscode": {
   "interpreter": {
    "hash": "c8f0a417b36daf86aafec4013139ac5baf8e417b175f66de0fc0829ed0d1013f"
   }
  }
 },
 "nbformat": 4,
 "nbformat_minor": 2
}
