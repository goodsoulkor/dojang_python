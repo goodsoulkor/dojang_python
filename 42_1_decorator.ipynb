{
 "cells": [
  {
   "cell_type": "markdown",
   "metadata": {},
   "source": [
    "# Unit 42. 테코레이터 사용하기\n",
    "\n",
    "파이썬은 데코레이터라는 기능을 제공한다. 데코레이터는 장식하는 도구 정도로 설명할 수 있다.\n",
    "@로 시작하는 것들이 데코레이더 이다. 즉, 함수(메서드)장식한다.\n",
    "\n",
    "```python\n",
    "class Calc:\n",
    "    @staticmethod  # 데코레이터\n",
    "    def add(a, b):\n",
    "        print(a + b)\n",
    "```"
   ]
  },
  {
   "cell_type": "markdown",
   "metadata": {},
   "source": [
    "## 42.1 데코레이터 만들기\n",
    "\n",
    "데코레이터는 함수를 수정하지 않은 상태에서 추가 기능을 구현할 때 사용한다."
   ]
  },
  {
   "cell_type": "code",
   "execution_count": 1,
   "metadata": {},
   "outputs": [
    {
     "name": "stdout",
     "output_type": "stream",
     "text": [
      "function start!\n",
      "hello\n",
      "function end!\n",
      "function start!\n",
      "world\n",
      "function end!\n"
     ]
    }
   ],
   "source": [
    "# 함수의 시작과 끝을 출력하고 싶다면 함수 시작, 끝 부분에 print를 넣는다.\n",
    "def hello():\n",
    "    print(\"function start!\")\n",
    "    print(\"hello\")\n",
    "    print(\"function end!\")\n",
    "\n",
    "def world():\n",
    "    print(\"function start!\")\n",
    "    print(\"world\")\n",
    "    print(\"function end!\")\n",
    "\n",
    "hello()\n",
    "world()"
   ]
  },
  {
   "cell_type": "code",
   "execution_count": 2,
   "metadata": {},
   "outputs": [
    {
     "name": "stdout",
     "output_type": "stream",
     "text": [
      "hello function start!\n",
      "hello\n",
      "hello function end!\n",
      "world function start!\n",
      "world\n",
      "world function end!\n"
     ]
    }
   ],
   "source": [
    "# 함수가 많아지면 매우 번거로워 진다.\n",
    "# 이런 경우 데코레이터를 활용하면 편리하다.\n",
    "\n",
    "# 함수의 시작과 끝을 출력하는 데코레이터\n",
    "def trace(func):  # 호출할 함수를 매개변수로 받음\n",
    "    def wrapper():  # 호출할 함수를 감싸는 함수\n",
    "        print(func.__name__, \"function start!\")  # __name__으로 함수 이름 출력\n",
    "        func()  # 매개변수로 받은 함수 호출\n",
    "        print(func.__name__, \"function end!\")\n",
    "    return wrapper  # wrapper 함수 반환\n",
    "\n",
    "def hello():\n",
    "    print(\"hello\")\n",
    "\n",
    "def world():\n",
    "    print(\"world\")\n",
    "\n",
    "trace_hello = trace(hello)  # 데코레이터에 호출할 함수 넣음\n",
    "trace_hello()  # 반환된 함수 호출\n",
    "trace_world = trace(world)  # 데코레이터에 호출할 함수 넣음\n",
    "trace_world()  # 반환된 함수 호출"
   ]
  },
  {
   "cell_type": "markdown",
   "metadata": {},
   "source": [
    "## 42.1.1 @로 데코레이터 사용하기\n",
    "\n",
    "좀 더 같편하게 @로 데코레이터를 사용한다.\n",
    "\n",
    "```python\n",
    "@데코레이터\n",
    "def 함수이름():\n",
    "    코드\n",
    "```"
   ]
  },
  {
   "cell_type": "code",
   "execution_count": 3,
   "metadata": {},
   "outputs": [
    {
     "name": "stdout",
     "output_type": "stream",
     "text": [
      "hello function start!\n",
      "hello\n",
      "hello function end!\n",
      "world function start!\n",
      "world\n",
      "world function end!\n"
     ]
    }
   ],
   "source": [
    "def trace(func):\n",
    "    def wrapper():\n",
    "        print(func.__name__, \"function start!\")\n",
    "        func()\n",
    "        print(func.__name__, \"function end!\")\n",
    "    return wrapper\n",
    "\n",
    "@trace  # @데코레이터\n",
    "def hello():\n",
    "    print(\"hello\")\n",
    "\n",
    "@trace\n",
    "def world():\n",
    "    print(\"world\")\n",
    "\n",
    "hello()\n",
    "world()"
   ]
  },
  {
   "cell_type": "markdown",
   "metadata": {},
   "source": [
    "> 참고: 데코레이터를 여러개 지정하기\n",
    "\n",
    "함수에는 데코레이터를 여러개 지정할 수 있다. 데코레이터가 실행되는 순서는 위에서 아래 순이다.\n",
    "\n",
    "```python\n",
    "@데코레이터1\n",
    "@데코레이터2\n",
    "def 함수이름():\n",
    "    코드"
   ]
  },
  {
   "cell_type": "code",
   "execution_count": 6,
   "metadata": {},
   "outputs": [
    {
     "name": "stdout",
     "output_type": "stream",
     "text": [
      "decorator1\n",
      "decorator2\n",
      "hello\n",
      "\n",
      "decorator1\n",
      "decorator2\n",
      "world\n"
     ]
    }
   ],
   "source": [
    "def decorator1(func):\n",
    "    def wrapper():\n",
    "        print(\"decorator1\")\n",
    "        func()\n",
    "    return wrapper\n",
    "\n",
    "def decorator2(func):\n",
    "    def wrapper():\n",
    "        print(\"decorator2\")\n",
    "        func()\n",
    "    return wrapper\n",
    "\n",
    "# 데코레이터를 여러개 지정\n",
    "@decorator1\n",
    "@decorator2\n",
    "def hello():\n",
    "    print(\"hello\")\n",
    "\n",
    "hello()\n",
    "print()\n",
    "\n",
    "def world():\n",
    "    print(\"world\")\n",
    "\n",
    "# @를 사용하지 않았을 때\n",
    "decorator_hello = decorator1(decorator2(world))\n",
    "decorator_hello()"
   ]
  },
  {
   "cell_type": "markdown",
   "metadata": {},
   "source": [
    "## 42.2. 매개변수와 반환값을 처리하는 데코레이터 만들기\n",
    "\n",
    "매개변수와 반환값을 처리하는 데코레이터 만드는 방법"
   ]
  },
  {
   "cell_type": "code",
   "execution_count": 7,
   "metadata": {},
   "outputs": [
    {
     "name": "stdout",
     "output_type": "stream",
     "text": [
      "add(a=10, b=20) -> 30\n",
      "30\n"
     ]
    }
   ],
   "source": [
    "def trace(func):\n",
    "    def wrapper(a, b):  # 호출 함수 add(a, b)의 매개변수와 똑같이 지정\n",
    "        r = func(a, b)  # func에 매개변수 a, b를 넣어서 호출하고 반환값을 변수에 저장\n",
    "        print(\"{0}(a={1}, b={2}) -> {3}\".format(func.__name__, a, b, r))  # 매개변수와 반환값 출력\n",
    "        return r  # func의 반환값을 반환\n",
    "    return wrapper\n",
    "\n",
    "@trace  # @데코레이터\n",
    "def add(a, b):\n",
    "    return a + b\n",
    "\n",
    "print(add(10, 20))"
   ]
  },
  {
   "cell_type": "markdown",
   "metadata": {},
   "source": [
    "## 42.2.1 가변 인수 함수 데코레이터\n",
    "\n",
    "매개변수(인수)가 고정되지 않은 함수는 어떻게 처리할까?\n",
    "이 때는 wrapper 함수를 가변 인수로 만들면 된다."
   ]
  },
  {
   "cell_type": "code",
   "execution_count": 9,
   "metadata": {},
   "outputs": [
    {
     "name": "stdout",
     "output_type": "stream",
     "text": [
      "get_max(args=(10, 20), kwargs={} -> 20\n",
      "20\n",
      "get_min(args=(), kwargs={'x': 10, 'y': 20, 'z': 30} -> 10\n",
      "10\n"
     ]
    }
   ],
   "source": [
    "def trace(func):\n",
    "    def wrapper(*args, **kwargs):  # 가변인수\n",
    "        r = func(*args, **kwargs)\n",
    "        print(\"{0}(args={1}, kwargs={2} -> {3}\".format(func.__name__, args, kwargs, r))\n",
    "        return r\n",
    "    return wrapper\n",
    "\n",
    "@trace\n",
    "def get_max(*args):\n",
    "    return max(args)\n",
    "\n",
    "@trace\n",
    "def get_min(**kwargs):\n",
    "    return min(kwargs.values())\n",
    "\n",
    "print(get_max(10, 20))\n",
    "print(get_min(x=10, y=20, z=30))"
   ]
  },
  {
   "cell_type": "markdown",
   "metadata": {},
   "source": [
    "> 참고: 메서드에 데코레이터 사용하기\n",
    "\n",
    "클래스를 만들면서 메서드에 데코레이터를 사용할 때는 self를 주의해야 한다.\n",
    "인스턴스 메서드는 항상 self를 받으므로 데코레이터를 만들 때도 wrapper 함수의 첫 번째 매개변수는 self로 지정해야 한다.(클래스 메서드는 cls)\n",
    "마찬가지로 func를 호출할 때도 self와 매개변수를 그대로 넣어야 한다."
   ]
  },
  {
   "cell_type": "code",
   "execution_count": 11,
   "metadata": {},
   "outputs": [
    {
     "name": "stdout",
     "output_type": "stream",
     "text": [
      "add(a=10, b=20) -> 30\n",
      "30\n"
     ]
    }
   ],
   "source": [
    "def trace(func):\n",
    "    def wrapper(self, a, b):  # 호출할 함수가 인스턴스 메서드이므로 첫 번째 매개변수는 self\n",
    "        r = func(self, a, b)  # self와 매개변수를 그대로 넣어줌\n",
    "        print(\"{0}(a={1}, b={2}) -> {3}\".format(func.__name__, a, b, r))\n",
    "        return r\n",
    "    return wrapper\n",
    "\n",
    "class Calc:\n",
    "    @trace\n",
    "    def add(self, a, b):\n",
    "        return a + b\n",
    "\n",
    "c = Calc()\n",
    "print(c.add(10, 20))"
   ]
  },
  {
   "cell_type": "markdown",
   "metadata": {},
   "source": [
    "## 42.3. 매개변수가 있는 데코레이터 만들기\n",
    "\n",
    "매개변수가 있는 데코레이터는 값을 지정해서 동작을 바꿀 수 있다."
   ]
  },
  {
   "cell_type": "code",
   "execution_count": 12,
   "metadata": {},
   "outputs": [
    {
     "name": "stdout",
     "output_type": "stream",
     "text": [
      "add의 반환값은 3의 배수입니다.\n",
      "30\n",
      "add의 반환값은 3의 배수가 아닙니다.\n",
      "7\n"
     ]
    }
   ],
   "source": [
    "# 함수의 반환값이 특정 수의 배수인지 확인하는 데코레이터\n",
    "\n",
    "def is_multiple(x):  # 데코레이터가 사용할 매개변수 지정\n",
    "    def real_decorator(func):  # 호출할 함수를 매개변수로 받음\n",
    "        def wrapper(a, b):  # 호출할 함수의 매개변수와 똑같이 지정\n",
    "            r = func(a, b)\n",
    "            if r % x == 0:  # func의 반환값이 x의 배수인지 확인\n",
    "                print(\"{0}의 반환값은 {1}의 배수입니다.\".format(func.__name__, x))\n",
    "            else:\n",
    "                print(\"{0}의 반환값은 {1}의 배수가 아닙니다.\".format(func.__name__, x))\n",
    "            return r\n",
    "        return wrapper\n",
    "    return real_decorator\n",
    "\n",
    "@is_multiple(3)  # @데코레이터(인수)\n",
    "def add(a, b):\n",
    "    return a + b\n",
    "\n",
    "print(add(10, 20))\n",
    "print(add(2, 5))"
   ]
  },
  {
   "cell_type": "markdown",
   "metadata": {},
   "source": [
    "> 참고: 매개변수가 있는 데코레이터 여러개 지정하기"
   ]
  },
  {
   "cell_type": "code",
   "execution_count": 16,
   "metadata": {},
   "outputs": [
    {
     "name": "stdout",
     "output_type": "stream",
     "text": [
      "add의 반환값은 7의 배수가 아닙니다.\n",
      "wrapper의 반환값은 3의 배수입니다.\n",
      "30\n",
      "add2의 반환값은 7의 배수가 아닙니다.\n",
      "wrapper의 반환값은 3의 배수입니다.\n",
      "30\n"
     ]
    }
   ],
   "source": [
    "@is_multiple(3)\n",
    "@is_multiple(7)\n",
    "def add(a, b):\n",
    "    return a + b\n",
    "\n",
    "print(add(10, 20))\n",
    "\n",
    "def add2(a, b):\n",
    "    return a + b\n",
    "\n",
    "# @를 사용하지 않을 때\n",
    "decorated_add = is_multiple(3)(is_multiple(7)(add2))\n",
    "print(decorated_add(10, 20))"
   ]
  },
  {
   "cell_type": "markdown",
   "metadata": {},
   "source": [
    "> 참고: 원래 함수 이름이 안 나온다면?\n",
    "\n",
    "데코레이터를 여려 개 사용하면 데코레이터에서 반환된 wrapper 함수가 다른 데코레이터로 들어간다. 따라서 함수의 __name__을 출력해보면 wrapper가 나오는데 원래 함수 이름을 출력하고 싶다면 functools 모듈의 wraps 데코레이터를 사용해야 한다."
   ]
  },
  {
   "cell_type": "code",
   "execution_count": 17,
   "metadata": {},
   "outputs": [
    {
     "name": "stdout",
     "output_type": "stream",
     "text": [
      "add의 반환값은 7의 배수가 아닙니다.\n",
      "add의 반환값은 3의 배수입니다.\n",
      "30\n"
     ]
    }
   ],
   "source": [
    "import functools\n",
    "\n",
    "def is_multiple(x):\n",
    "    def real_decorator(func):\n",
    "        @functools.wraps(func)  # functools.wraps에 func를 넣은 뒤 wrapper 함수 위에 지정\n",
    "        def wrapper(a, b):\n",
    "            r = func(a, b)\n",
    "            if r % x == 0:\n",
    "                print(\"{0}의 반환값은 {1}의 배수입니다.\".format(func.__name__, x))\n",
    "            else:\n",
    "                print(\"{0}의 반환값은 {1}의 배수가 아닙니다.\".format(func.__name__, x))\n",
    "            return r\n",
    "        return wrapper\n",
    "    return real_decorator\n",
    "\n",
    "@is_multiple(3)\n",
    "@is_multiple(7)\n",
    "def add(a, b):\n",
    "    return a + b\n",
    "\n",
    "print(add(10, 20))\n",
    "\n",
    "# @functools.wraps는 원래 함수의 정보를 유지시켜준다. 디버깅 할 때 유용하므로 데코레이터를 만들 때는 @functools.wraps를 사용하는 것이 좋다."
   ]
  },
  {
   "cell_type": "markdown",
   "metadata": {},
   "source": [
    "## 42.4 클래스로 데코레이터 만들기\n",
    "\n",
    "클래스를 활용할 때는 인스턴스 함수처럼 호출하게 해주는 __call__메서드를 구현해야 한다."
   ]
  },
  {
   "cell_type": "code",
   "execution_count": 18,
   "metadata": {},
   "outputs": [
    {
     "name": "stdout",
     "output_type": "stream",
     "text": [
      "hello func start!\n",
      "hello\n",
      "hello func end!\n"
     ]
    }
   ],
   "source": [
    "class Trace:\n",
    "    def __init__(self, func):  # 호출할 함수를 인스턴스 초기값으로 받음\n",
    "        self.func = func\n",
    "    \n",
    "    def __call__(self):\n",
    "        print(self.func.__name__, \"func start!\")\n",
    "        self.func()\n",
    "        print(self.func.__name__, \"func end!\")\n",
    "\n",
    "\n",
    "@Trace\n",
    "def hello():\n",
    "    print(\"hello\")\n",
    "\n",
    "hello()"
   ]
  },
  {
   "cell_type": "code",
   "execution_count": 19,
   "metadata": {},
   "outputs": [
    {
     "name": "stdout",
     "output_type": "stream",
     "text": [
      "world func start!\n",
      "world\n",
      "world func end!\n"
     ]
    }
   ],
   "source": [
    "# @데코레이터를 지정하지 않는 방법\n",
    "def world():\n",
    "    print(\"world\")\n",
    "\n",
    "trace_world = Trace(world)\n",
    "trace_world()  # 인스턴스를 호출, __call__ 메서드가 호출됨"
   ]
  },
  {
   "cell_type": "markdown",
   "metadata": {},
   "source": [
    "## 42.5 클래스로 매개변수와 반환값을 처리하는 데코레이터 만들기"
   ]
  },
  {
   "cell_type": "code",
   "execution_count": 20,
   "metadata": {},
   "outputs": [
    {
     "name": "stdout",
     "output_type": "stream",
     "text": [
      "add(args=(10, 20), kwargs={}) -> 30\n",
      "30\n",
      "add(args=(), kwargs={'a': 10, 'b': 20}) -> 30\n",
      "30\n"
     ]
    }
   ],
   "source": [
    "class Trace:\n",
    "    def __init__(self, func):\n",
    "        self.func = func\n",
    "    \n",
    "    def __call__(self, *args, **kwargs):\n",
    "        r = self.func(*args, **kwargs)\n",
    "        print(\"{0}(args={1}, kwargs={2}) -> {3}\".format(self.func.__name__, args, kwargs, r))\n",
    "        return r\n",
    "\n",
    "\n",
    "@Trace\n",
    "def add(a, b):\n",
    "    return a + b\n",
    "\n",
    "print(add(10, 20))\n",
    "print(add(a=10, b=20))"
   ]
  },
  {
   "cell_type": "markdown",
   "metadata": {},
   "source": [
    "### 42.5.1 클래스로 매개변수가 있는 데코레이터 만들기"
   ]
  },
  {
   "cell_type": "code",
   "execution_count": 21,
   "metadata": {},
   "outputs": [
    {
     "name": "stdout",
     "output_type": "stream",
     "text": [
      "add의 반환값은 3의 배수입니다.\n",
      "30\n",
      "add의 반환값은 3의 배수가 아닙니다.\n",
      "7\n"
     ]
    }
   ],
   "source": [
    "# 함수의 반환값이 특정 수의 배수인지 확인\n",
    "class IsMultiple:\n",
    "    def __init__(self, x):  # 데코레이터가 사용할 매개변수를 초기값으로 받음\n",
    "        self.x = x\n",
    "    \n",
    "    def __call__(self, func):  # 호출할 함수를 매개변수로 받음\n",
    "        def wrapper(a, b):  # 호출할 함수의 매개변수와 똑같이 지정\n",
    "            r = func(a, b)\n",
    "            if r % self.x == 0:\n",
    "                print(\"{0}의 반환값은 {1}의 배수입니다.\".format(func.__name__, self.x))\n",
    "            else:\n",
    "                print(\"{0}의 반환값은 {1}의 배수가 아닙니다.\".format(func.__name__, self.x))\n",
    "            return r\n",
    "        return wrapper\n",
    "\n",
    "@IsMultiple(3)\n",
    "def add(a, b):\n",
    "    return a + b\n",
    "\n",
    "print(add(10, 20))\n",
    "print(add(2, 5))"
   ]
  }
 ],
 "metadata": {
  "kernelspec": {
   "display_name": "Python 3.10.4 ('basic')",
   "language": "python",
   "name": "python3"
  },
  "language_info": {
   "codemirror_mode": {
    "name": "ipython",
    "version": 3
   },
   "file_extension": ".py",
   "mimetype": "text/x-python",
   "name": "python",
   "nbconvert_exporter": "python",
   "pygments_lexer": "ipython3",
   "version": "3.10.4"
  },
  "orig_nbformat": 4,
  "vscode": {
   "interpreter": {
    "hash": "c8f0a417b36daf86aafec4013139ac5baf8e417b175f66de0fc0829ed0d1013f"
   }
  }
 },
 "nbformat": 4,
 "nbformat_minor": 2
}
