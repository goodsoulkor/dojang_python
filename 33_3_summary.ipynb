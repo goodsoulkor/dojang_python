{
 "cells": [
  {
   "cell_type": "markdown",
   "metadata": {},
   "source": [
    "# 핵심 정리\n",
    "\n",
    "## 람다 표현식\n",
    "\n",
    "람다 표현식은 간단한 식으로 함수를 만들 때 사용한다. 특히 람다 표현식을 만든 함수는 이름이 없어서 익명 함수라고 부르기도 한다. 람다 표현식 자체를 호출하려면 람다 표현식을 ( ) 괄호로 묶은 뒤 다시 ( )를 붙이고 인수를 넣어 호출한다."
   ]
  },
  {
   "cell_type": "code",
   "execution_count": 1,
   "metadata": {},
   "outputs": [
    {
     "data": {
      "text/plain": [
       "<function __main__.<lambda>(x)>"
      ]
     },
     "execution_count": 1,
     "metadata": {},
     "output_type": "execute_result"
    }
   ],
   "source": [
    "lambda x, y: x + y  # 람다 표현식으로 함수를 만듦\n",
    "(lambda x, y: x + y)(10, 20)  # 람다 표현식 자체 호출\n",
    "\n",
    "lambda x, y: x + y if x > 1 else x - y  # 람다 표현식에서 조건부 표현식 사용\n",
    "lambda x: str(x) if x % 3 == 0 else x\n",
    "\n",
    "lambda x, y: x + y if x > 1 else x - y if x > 5 else x * y  # if 여러개 사용\n",
    "lambda x: str(x) if x == 1 else float(x) if x == 2 else x + 10"
   ]
  },
  {
   "cell_type": "markdown",
   "metadata": {},
   "source": [
    "## 변수의 사용 범위\n",
    "\n",
    "전역 변수는 스크립트 전체에서 접근할 수 있으며 지역 변수는 해당 함수 안에서만 접근할 수 있다. 만약 함수 안에서 전역 변수를 사용하려면 global에 변수 이름을 지정해준다."
   ]
  },
  {
   "cell_type": "code",
   "execution_count": 2,
   "metadata": {},
   "outputs": [],
   "source": [
    "x = 10  # 전역 변수\n",
    "\n",
    "def foo():\n",
    "    global x  # 전역 변수 x를 사용하겠다고 설정\n",
    "    y = 10  # foo의 지역 변수"
   ]
  },
  {
   "cell_type": "markdown",
   "metadata": {},
   "source": [
    "만약 전역 변수가 없을 때 함수 안에서 global을 사용하면 해당 변수는 전역 변수가 된다."
   ]
  },
  {
   "cell_type": "markdown",
   "metadata": {},
   "source": [
    "## 함수 안에서 함수 사용하기\n",
    "\n",
    "파이썬에서 def로 함수를 만들고 다시 def로 함수를 만들 수 있다."
   ]
  },
  {
   "cell_type": "code",
   "execution_count": 3,
   "metadata": {},
   "outputs": [],
   "source": [
    "def func1():\n",
    "    x = 1\n",
    "    def func2():\n",
    "        y = 2\n",
    "\n",
    "# 함수 안에 함수를 만들었을 때 안 쪽 함수에서 바깥쪽 함수의 지역 변수를 변경하려면 nonlocal에 변수 이름을 지정해준다.\n",
    "\n",
    "def A():\n",
    "    x = 10  # A의 지역 변수 x\n",
    "    def B():\n",
    "        nonlocal x  # 현재 함수에서 바깥쪽에 있는 지역 변수를 사용\n",
    "        x = 20  # A의 지역 변수 x에 20 할당"
   ]
  },
  {
   "cell_type": "markdown",
   "metadata": {},
   "source": [
    "## 클로저\n",
    "\n",
    "클로저는 함수를 둘러싼 환경(지역변수, 코드 등)을 계속 유지하다가 함수를 호출할 때 다시 꺼내서 사용하는 함수를 뜻한다. 따라서 클로저는 지역 변수와 코드를 묶어서 사용하고 싶을 때 활용한다. 또한, 클로저에 속한 지역 변수는 바깥에서 직접 접근할 수 없으므로 데이터를 숨기고 싶을 때 활용한다."
   ]
  },
  {
   "cell_type": "code",
   "execution_count": 5,
   "metadata": {},
   "outputs": [
    {
     "name": "stdout",
     "output_type": "stream",
     "text": [
      "8 11 14\n"
     ]
    }
   ],
   "source": [
    "def calc():  # calc 함수 안에 mul_add 함수를 만듦\n",
    "    a = 3\n",
    "    b = 5\n",
    "    def mul_add(x):\n",
    "        return a * x + b  # 함수 바깥쪽에 있는 지역변수 a, b를 사용하여 계산\n",
    "    return mul_add  # mul_add 함수를 반환\n",
    "\n",
    "c = calc()  # c에 저장된 함수가 클로저\n",
    "print(c(1), c(2), c(3))\n",
    "\n",
    "# 클로저는 람다 표현식으로도 만들 수 있다.\n",
    "def calc():\n",
    "    a = 3\n",
    "    b = 5\n",
    "    return lambda x: a * x + b  # 람다 표현식을 반환"
   ]
  },
  {
   "cell_type": "markdown",
   "metadata": {},
   "source": [
    "## 람다와 클로저\n",
    "\n",
    "보통 클로저는 람다와 함께 사용하는 경우가 많아 둘을 혼동하기 쉽다. 람다는 이름이 없는 익명 함수를 뜻하고 클로저는 함수를 둘러싼 환경을 유지했다가 나중에 다시 사용하는 함수를 말한다."
   ]
  }
 ],
 "metadata": {
  "kernelspec": {
   "display_name": "Python 3.10.4 ('python_basic')",
   "language": "python",
   "name": "python3"
  },
  "language_info": {
   "codemirror_mode": {
    "name": "ipython",
    "version": 3
   },
   "file_extension": ".py",
   "mimetype": "text/x-python",
   "name": "python",
   "nbconvert_exporter": "python",
   "pygments_lexer": "ipython3",
   "version": "3.10.4"
  },
  "orig_nbformat": 4,
  "vscode": {
   "interpreter": {
    "hash": "6ce0904d24b1247bee41f51457056f4c118aac598714269e8b4d39b1dc521c2c"
   }
  }
 },
 "nbformat": 4,
 "nbformat_minor": 2
}
