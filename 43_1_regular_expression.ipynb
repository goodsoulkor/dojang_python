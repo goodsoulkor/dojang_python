{
 "cells": [
  {
   "cell_type": "markdown",
   "metadata": {},
   "source": [
    "# Unit 43 정규표현식 사용하기\n",
    "\n",
    "정규표현식(regular expression)은 일정한 규칙(패턴)을 가진 문자열을 표현하는 방법입니다. 복잡한 문자열 속에서 특정한 규칙으로 된 문자열을 검색한 뒤 추출하거나 바꿀 때 사용\n",
    "\n",
    "## 43.1 문자열 판단하기\n",
    "\n",
    "문자열에 특정 문자열이 포함되어 있는지 판단하기\n",
    "정규표현식은 re 모듈을 가져와서 사용하며 match 함수에 정규표현식 패턴과 판단할 문자열을 넣는다.\n",
    "- ```re.match(\"패턴\", \"문자열\")```"
   ]
  },
  {
   "cell_type": "code",
   "execution_count": 1,
   "metadata": {},
   "outputs": [
    {
     "name": "stdout",
     "output_type": "stream",
     "text": [
      "<re.Match object; span=(0, 5), match='Hello'>\n",
      "None\n"
     ]
    }
   ],
   "source": [
    "# \"Hello, world!\" 문자열에 \"Hello\"와 \"Python\"이 있는지 판단\n",
    "import re\n",
    "\n",
    "print(re.match(\"Hello\", \"Hello, world!\"))  # 문자열이 있으므로 정규표현식 매치 객체가 반환됨\n",
    "print(re.match(\"Python\", \"Hello, world!\"))  # 문자열이 없으므로 아무것도 반환되지 않음"
   ]
  },
  {
   "cell_type": "markdown",
   "metadata": {},
   "source": [
    "### 43.1.1 문자열이 맨 앞에 오는지 맨 뒤에 오는지 판단하기\n",
    "\n",
    "문자열 앞에 ^를 붙이면 문자열이 맨 앞에 오는지 판단하고, 문자열 뒤에 $를 붙이면 문자열이 맨 뒤에 오는지 판단한다.\n",
    "- ```^문자열```\n",
    "- ```문자열$```\n",
    "\n",
    "이때는 match 대신 search 함수를 사용한다. search는 문자열 일부분이 매칭되는지 판단한다.\n",
    "- ```re.search(\"패턴\", \"문자열\")```"
   ]
  },
  {
   "cell_type": "code",
   "execution_count": 2,
   "metadata": {},
   "outputs": [
    {
     "name": "stdout",
     "output_type": "stream",
     "text": [
      "<re.Match object; span=(0, 5), match='Hello'>\n",
      "<re.Match object; span=(7, 13), match='world!'>\n"
     ]
    }
   ],
   "source": [
    "print(re.search(\"^Hello\", \"Hello, world!\"))\n",
    "print(re.search(\"world!$\", \"Hello, world!\"))"
   ]
  },
  {
   "cell_type": "markdown",
   "metadata": {},
   "source": [
    "### 43.1.2 지정된 문자열이 하나라도 포함되는지 판단하기\n",
    "\n",
    "| 는 특정 문자열에서 지정된 문자열(문자)이 하나라도 포함되는지 판단한다.\n",
    "- ```문자열|문자열```\n",
    "- ```문자열|문자열|문자열|문자열```"
   ]
  },
  {
   "cell_type": "code",
   "execution_count": 5,
   "metadata": {},
   "outputs": [
    {
     "name": "stdout",
     "output_type": "stream",
     "text": [
      "<re.Match object; span=(0, 5), match='hello'>\n"
     ]
    }
   ],
   "source": [
    "# \"hello|world\"는 문자열에서 \"hello\" 또는 \"world\"가 포함되는지 판단한다.\n",
    "print(re.match(\"hello|world\", \"hello\"))  # hello 또는 world가 있으므로 패턴에 매칭됨"
   ]
  },
  {
   "cell_type": "markdown",
   "metadata": {},
   "source": [
    "## 43.2 범위 판단하기\n",
    "\n",
    "문자열이 숫자로 되어있는지 판단하기\n",
    "[] 대괄호 안에 숫자 범위를 넣으며 * 또는 +를 붙인다.\n",
    "숫자 범위는 0-9처럼 표현하고 *는 문자(숫자)가 0개 이상 있는지, +는 1개 이상 있는지 판단한다.\n",
    "- ```[0-9]*```\n",
    "- ```[0-9]+```"
   ]
  },
  {
   "cell_type": "code",
   "execution_count": 7,
   "metadata": {},
   "outputs": [
    {
     "name": "stdout",
     "output_type": "stream",
     "text": [
      "<re.Match object; span=(0, 4), match='1234'>\n",
      "<re.Match object; span=(0, 4), match='1234'>\n",
      "None\n",
      "<re.Match object; span=(0, 0), match=''>\n"
     ]
    }
   ],
   "source": [
    "print(re.match(\"[0-9]*\", \"1234\"))  # 0-9까지 0개 이상 있으니 패턴에 매칭\n",
    "print(re.match(\"[0-9]+\", \"1234\"))  # 0-9까지 1개 이상 있으니 패턴에 매칭\n",
    "print(re.match(\"[0-9]+\", \"abcd\"))  # 0-9까지 1개 이상 없으므로 패턴에 매칭되지 않음\n",
    "print(re.match(\"[0-9]*\", \"abcd\"))  # 0-9까지 0개 이상이니 패턴에 매칭"
   ]
  },
  {
   "cell_type": "code",
   "execution_count": 9,
   "metadata": {},
   "outputs": [
    {
     "name": "stdout",
     "output_type": "stream",
     "text": [
      "<re.Match object; span=(0, 1), match='b'>\n",
      "None\n",
      "<re.Match object; span=(0, 3), match='aab'>\n",
      "<re.Match object; span=(0, 3), match='aab'>\n"
     ]
    }
   ],
   "source": [
    "print(re.match(\"a*b\", \"b\"))  # b에는 a가 0개 이상이므로 매칭\n",
    "print(re.match(\"a+b\", \"b\"))  # b에는 a가 1개 이상 없으므로 매칭되지 않음\n",
    "print(re.match(\"a*b\", \"aab\"))  # aab에는 a가 0개 이상이므로 매칭\n",
    "print(re.match(\"a+b\", \"aab\"))  # aab에는 a가 1개 이상이므로 매칭"
   ]
  },
  {
   "cell_type": "code",
   "execution_count": null,
   "metadata": {},
   "outputs": [],
   "source": []
  }
 ],
 "metadata": {
  "kernelspec": {
   "display_name": "Python 3.10.4 ('basic')",
   "language": "python",
   "name": "python3"
  },
  "language_info": {
   "codemirror_mode": {
    "name": "ipython",
    "version": 3
   },
   "file_extension": ".py",
   "mimetype": "text/x-python",
   "name": "python",
   "nbconvert_exporter": "python",
   "pygments_lexer": "ipython3",
   "version": "3.10.4"
  },
  "orig_nbformat": 4,
  "vscode": {
   "interpreter": {
    "hash": "c8f0a417b36daf86aafec4013139ac5baf8e417b175f66de0fc0829ed0d1013f"
   }
  }
 },
 "nbformat": 4,
 "nbformat_minor": 2
}
