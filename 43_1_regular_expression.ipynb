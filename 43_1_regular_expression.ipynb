{
 "cells": [
  {
   "cell_type": "markdown",
   "metadata": {},
   "source": [
    "# Unit 43 정규표현식 사용하기\n",
    "\n",
    "정규표현식(regular expression)은 일정한 규칙(패턴)을 가진 문자열을 표현하는 방법입니다. 복잡한 문자열 속에서 특정한 규칙으로 된 문자열을 검색한 뒤 추출하거나 바꿀 때 사용\n",
    "\n",
    "## 43.1 문자열 판단하기\n",
    "\n",
    "문자열에 특정 문자열이 포함되어 있는지 판단하기\n",
    "정규표현식은 re 모듈을 가져와서 사용하며 match 함수에 정규표현식 패턴과 판단할 문자열을 넣는다.\n",
    "- ```re.match(\"패턴\", \"문자열\")```"
   ]
  },
  {
   "cell_type": "code",
   "execution_count": 2,
   "metadata": {},
   "outputs": [
    {
     "name": "stdout",
     "output_type": "stream",
     "text": [
      "<re.Match object; span=(0, 5), match='Hello'>\n",
      "None\n"
     ]
    }
   ],
   "source": [
    "# \"Hello, world!\" 문자열에 \"Hello\"와 \"Python\"이 있는지 판단\n",
    "import re\n",
    "\n",
    "print(re.match(\"Hello\", \"Hello, world!\"))  # 문자열이 있으므로 정규표현식 매치 객체가 반환됨\n",
    "print(re.match(\"Python\", \"Hello, world!\"))  # 문자열이 없으므로 아무것도 반환되지 않음"
   ]
  },
  {
   "cell_type": "markdown",
   "metadata": {},
   "source": [
    "### 43.1.1 문자열이 맨 앞에 오는지 맨 뒤에 오는지 판단하기\n",
    "\n",
    "문자열 앞에 ^를 붙이면 문자열이 맨 앞에 오는지 판단하고, 문자열 뒤에 $를 붙이면 문자열이 맨 뒤에 오는지 판단한다.\n",
    "- ```^문자열```\n",
    "- ```문자열$```\n",
    "\n",
    "이때는 match 대신 search 함수를 사용한다. search는 문자열 일부분이 매칭되는지 판단한다.\n",
    "- ```re.search(\"패턴\", \"문자열\")```"
   ]
  },
  {
   "cell_type": "code",
   "execution_count": 3,
   "metadata": {},
   "outputs": [
    {
     "name": "stdout",
     "output_type": "stream",
     "text": [
      "<re.Match object; span=(0, 5), match='Hello'>\n",
      "<re.Match object; span=(7, 13), match='world!'>\n"
     ]
    }
   ],
   "source": [
    "print(re.search(\"^Hello\", \"Hello, world!\"))\n",
    "print(re.search(\"world!$\", \"Hello, world!\"))"
   ]
  },
  {
   "cell_type": "markdown",
   "metadata": {},
   "source": [
    "### 43.1.2 지정된 문자열이 하나라도 포함되는지 판단하기\n",
    "\n",
    "| 는 특정 문자열에서 지정된 문자열(문자)이 하나라도 포함되는지 판단한다.\n",
    "- ```문자열|문자열```\n",
    "- ```문자열|문자열|문자열|문자열```"
   ]
  },
  {
   "cell_type": "code",
   "execution_count": 4,
   "metadata": {},
   "outputs": [
    {
     "name": "stdout",
     "output_type": "stream",
     "text": [
      "<re.Match object; span=(0, 5), match='hello'>\n"
     ]
    }
   ],
   "source": [
    "# \"hello|world\"는 문자열에서 \"hello\" 또는 \"world\"가 포함되는지 판단한다.\n",
    "print(re.match(\"hello|world\", \"hello\"))  # hello 또는 world가 있으므로 패턴에 매칭됨"
   ]
  },
  {
   "cell_type": "markdown",
   "metadata": {},
   "source": [
    "## 43.2 범위 판단하기\n",
    "\n",
    "문자열이 숫자로 되어있는지 판단하기\n",
    "[] 대괄호 안에 숫자 범위를 넣으며 * 또는 +를 붙인다.\n",
    "숫자 범위는 0-9처럼 표현하고 *는 문자(숫자)가 0개 이상 있는지, +는 1개 이상 있는지 판단한다.\n",
    "- ```[0-9]*```\n",
    "- ```[0-9]+```"
   ]
  },
  {
   "cell_type": "code",
   "execution_count": 5,
   "metadata": {},
   "outputs": [
    {
     "name": "stdout",
     "output_type": "stream",
     "text": [
      "<re.Match object; span=(0, 4), match='1234'>\n",
      "<re.Match object; span=(0, 4), match='1234'>\n",
      "None\n",
      "<re.Match object; span=(0, 0), match=''>\n"
     ]
    }
   ],
   "source": [
    "print(re.match(\"[0-9]*\", \"1234\"))  # 0-9까지 0개 이상 있으니 패턴에 매칭\n",
    "print(re.match(\"[0-9]+\", \"1234\"))  # 0-9까지 1개 이상 있으니 패턴에 매칭\n",
    "print(re.match(\"[0-9]+\", \"abcd\"))  # 0-9까지 1개 이상 없으므로 패턴에 매칭되지 않음\n",
    "print(re.match(\"[0-9]*\", \"abcd\"))  # 0-9까지 0개 이상이니 패턴에 매칭"
   ]
  },
  {
   "cell_type": "code",
   "execution_count": 6,
   "metadata": {},
   "outputs": [
    {
     "name": "stdout",
     "output_type": "stream",
     "text": [
      "<re.Match object; span=(0, 1), match='b'>\n",
      "None\n",
      "<re.Match object; span=(0, 3), match='aab'>\n",
      "<re.Match object; span=(0, 3), match='aab'>\n"
     ]
    }
   ],
   "source": [
    "print(re.match(\"a*b\", \"b\"))  # b에는 a가 0개 이상이므로 매칭\n",
    "print(re.match(\"a+b\", \"b\"))  # b에는 a가 1개 이상 없으므로 매칭되지 않음\n",
    "print(re.match(\"a*b\", \"aab\"))  # aab에는 a가 0개 이상이므로 매칭\n",
    "print(re.match(\"a+b\", \"aab\"))  # aab에는 a가 1개 이상이므로 매칭"
   ]
  },
  {
   "cell_type": "markdown",
   "metadata": {},
   "source": [
    "### 43.2.1 문자가 한 개만 있는지 판단하기\n",
    "\n",
    "?와 .을 사용한다.\n",
    "?는 ? 앞의 문자(범위)가 0개 또는 1개인지 판단하고, .은 .이 있는 위치에 아무 문자(숫자)가 1개 있는지 판단한다.\n",
    "- 문자?\n",
    "- [0-9]?\n",
    "- ."
   ]
  },
  {
   "cell_type": "code",
   "execution_count": 8,
   "metadata": {},
   "outputs": [
    {
     "name": "stdout",
     "output_type": "stream",
     "text": [
      "<re.Match object; span=(0, 3), match='abd'>\n",
      "<re.Match object; span=(0, 4), match='ab3c'>\n",
      "<re.Match object; span=(0, 4), match='abxd'>\n"
     ]
    }
   ],
   "source": [
    "print(re.match(\"abc?d\", \"abd\"))  # abd에서 c 위치에 c가 0개 있으므로 패턴에 매칭됨\n",
    "print(re.match(\"ab[0-9]?c\", \"ab3c\"))  # [0-9] 위치에 숫자가 1개 있으므로 패턴에 매칭됨\n",
    "print(re.match(\"ab.d\", \"abxd\"))  # .이 있는 위치에 문자가 1개 있으므로 패턴에 매칭됨"
   ]
  },
  {
   "cell_type": "markdown",
   "metadata": {},
   "source": [
    "### 43.2.2 문자 개수 판단하기\n",
    "\n",
    "문자 뒤에 {개수} 형식을 지정한다.\n",
    "- 문자{개수}\n",
    "- (문자열){개수}"
   ]
  },
  {
   "cell_type": "code",
   "execution_count": 9,
   "metadata": {},
   "outputs": [
    {
     "name": "stdout",
     "output_type": "stream",
     "text": [
      "<re.Match object; span=(0, 3), match='hhh'>\n",
      "<re.Match object; span=(0, 15), match='hellohellohello'>\n"
     ]
    }
   ],
   "source": [
    "# h{3}은 h가 3개 있는지 판단\n",
    "# (hello){3}은 hello가 3개 있는지 판단\n",
    "\n",
    "print(re.match(\"h{3}\", \"hhhello\"))\n",
    "print(re.match(\"(hello){3}\", \"hellohellohelloworld\"))"
   ]
  },
  {
   "cell_type": "code",
   "execution_count": 11,
   "metadata": {},
   "outputs": [
    {
     "name": "stdout",
     "output_type": "stream",
     "text": [
      "<re.Match object; span=(0, 13), match='010-1000-1000'>\n",
      "None\n"
     ]
    }
   ],
   "source": [
    "# 특정 범위의 문자(숫자)가 몇개 있는지 판단\n",
    "# 휴대전화의 번호 형식에 맞는지 판단\n",
    "print(re.match(\"[0-9]{3}-[0-9]{4}-[0-9]{4}\", \"010-1000-1000\"))  # 숫자 3-4-4 패턴 매칭됨\n",
    "print(re.match(\"[0-9]{3}-[0-9]{4}-[0-9]{4}\", \"010-1000-100\"))  # 매칭되지 않음"
   ]
  },
  {
   "cell_type": "code",
   "execution_count": 12,
   "metadata": {},
   "outputs": [
    {
     "name": "stdout",
     "output_type": "stream",
     "text": [
      "<re.Match object; span=(0, 11), match='02-100-1000'>\n",
      "None\n"
     ]
    }
   ],
   "source": [
    "# 문자(숫자)의 개수 범위 지정\n",
    "# {시작개수, 끝개수}\n",
    "# (문자){시작개수, 끝개수}\n",
    "# (문자열){시작개수, 끝개수}\n",
    "# [0-9](시작개수, 끝개수)\n",
    "\n",
    "print(re.match(\"[0-9]{2,3}-[0-9]{3,4}-[0-9]{4}\", \"02-100-1000\"))  # 2~3개-3~4개-4개\n",
    "print(re.match(\"[0-9]{2,3}-[0-9]{3,4}-[0-9]{4}\", \"02-10-1000\"))  # 매칭되지 않음"
   ]
  },
  {
   "cell_type": "markdown",
   "metadata": {},
   "source": [
    "### 43.2.3 숫자와 영문 문자를 조합해서 판단하기\n",
    "\n",
    "영문 문자 범위는 a-z, A-Z로 표현한다."
   ]
  },
  {
   "cell_type": "code",
   "execution_count": 13,
   "metadata": {},
   "outputs": [
    {
     "name": "stdout",
     "output_type": "stream",
     "text": [
      "<re.Match object; span=(0, 9), match='Hello1234'>\n",
      "None\n"
     ]
    }
   ],
   "source": [
    "print(re.match(\"[a-zA-Z0-9]+\", \"Hello1234\"))  # a~z, A~Z, 0~9 까지 1개 이상이므로 매칭\n",
    "print(re.match(\"[A-Z0-9]+\", \"hello\"))  # 매칭되지 않음"
   ]
  },
  {
   "cell_type": "code",
   "execution_count": 14,
   "metadata": {},
   "outputs": [
    {
     "name": "stdout",
     "output_type": "stream",
     "text": [
      "<re.Match object; span=(0, 3), match='홍길동'>\n"
     ]
    }
   ],
   "source": [
    "# 한글\n",
    "print(re.match(\"[가-힣]+\", \"홍길동\"))  # 매칭됨"
   ]
  },
  {
   "cell_type": "markdown",
   "metadata": {},
   "source": [
    "### 43.2.4 특정 문자 범위에 포함되지 않는지 판단하기\n",
    "\n",
    "문자(숫자) 범위 앞에 ^를 붙인다.\n",
    "- ```[^범위]*```\n",
    "- ```[^범위]+```"
   ]
  },
  {
   "cell_type": "code",
   "execution_count": 22,
   "metadata": {},
   "outputs": [
    {
     "name": "stdout",
     "output_type": "stream",
     "text": [
      "None\n",
      "<re.Match object; span=(0, 5), match='hello'>\n",
      "\n",
      "<re.Match object; span=(0, 1), match='H'>\n",
      "\n",
      "<re.Match object; span=(5, 9), match='1234'>\n"
     ]
    }
   ],
   "source": [
    "# [^A-Z]+ 는 대문자를 제외한 모든 문자(숫자)가 1개 이상 있는지 판단\n",
    "print(re.match(\"[^A-Z]+\", \"Hello\"))  # 대문자가 있으므로 매칭되지 않음\n",
    "print(re.match(\"[^A-Z]+\", \"hello\"))  # 대문자가 없으므로 매칭\n",
    "print()\n",
    "\n",
    "# 범위로 시작할 때는\n",
    "# ^[범위]* / [범위]$\n",
    "# ^[A-Z]+ -> 대문자로 시작하는지 판단\n",
    "print(re.search(\"^[A-Z]+\", \"Hello\"))  # 대문자로 시작하므로 매칭\n",
    "print()\n",
    "\n",
    "# 특정 문자(숫자) 범위로 끝나는지 확인\n",
    "# [범위]+$ / [범위]*$\n",
    "print(re.search(\"[0-9]+$\", \"Hello1234\"))  # 숫자로 끝나므로 매칭"
   ]
  },
  {
   "cell_type": "markdown",
   "metadata": {},
   "source": [
    "### 43.2.5 특수문자 판단하기\n",
    "\n",
    "특수문자를 판단할 때는 특수문자 앞에 \\를 붙인다.\n",
    "단, [] 안에서는 \\를 붙이지 않아도 되지만 에러 발생 시 \\를 붙인다."
   ]
  },
  {
   "cell_type": "code",
   "execution_count": 28,
   "metadata": {},
   "outputs": [
    {
     "name": "stdout",
     "output_type": "stream",
     "text": [
      "<re.Match object; span=(2, 4), match='**'>\n",
      "<re.Match object; span=(0, 11), match='$(document)'>\n"
     ]
    }
   ],
   "source": [
    "print(re.search(\"\\*+\", \"1 ** 2\"))  # *이 들어있는지 판단\n",
    "print(re.match(\"[$()a-zA-Z0-9]+\", \"$(document)\"))  # $, (), 문자, 숫자가 들어있는지 판단"
   ]
  },
  {
   "cell_type": "markdown",
   "metadata": {},
   "source": [
    "단순히 숫자인지 문자인지 판단할 때는 \\d, \\D, \\w, \\W 를 사용하면 편하다\n",
    "- ```\\d: [0-9] 와 같음, 모든 숫자```\n",
    "- ```\\D: [^0-9] 와 같음, 숫자를 제외한 모든 문자```\n",
    "- ```\\w: [a-zA-Z0-9_] 와 같음 영문 대소문자, 숫자, 밑줄 문자```\n",
    "- ```\\W: [^a-zA-Z0-0_] 와 같음 영문 대소문자, 숫자, 밑줄 문자를 제외한 모든 문자```"
   ]
  },
  {
   "cell_type": "code",
   "execution_count": 29,
   "metadata": {},
   "outputs": [
    {
     "name": "stdout",
     "output_type": "stream",
     "text": [
      "<re.Match object; span=(0, 4), match='1234'>\n",
      "<re.Match object; span=(0, 5), match='Hello'>\n",
      "<re.Match object; span=(0, 10), match='Hello_1234'>\n",
      "<re.Match object; span=(0, 3), match='(:)'>\n"
     ]
    }
   ],
   "source": [
    "print(re.match(\"\\d+\", \"1234\"))  # 모든 숫자이므로 매칭\n",
    "print(re.match(\"\\D+\", \"Hello\"))  # 숫자를 제외한 모든 문자이므로 매칭\n",
    "print(re.match(\"\\w+\", \"Hello_1234\"))  # 매칭\n",
    "print(re.match(\"\\W+\", \"(:)\"))  # 매칭"
   ]
  },
  {
   "cell_type": "markdown",
   "metadata": {},
   "source": [
    "### 43.2.6 공백 처리하기\n",
    "\n",
    "공백은 \" \" 처럼 공백 문자를 넣어도 되고 \\s 또는 \\S 로 표현할 수도 있다.\n",
    "- ```\\s: [ \\t\\n\\r\\f\\v] 와 같음, 공백(스페이스)```\n",
    "- ```\\S: [^ \\t\\n\\r\\f\\v] 와 같음, 공백을 제외하고 \\t, \\n, \\r, \\f, \\v 만 포함```"
   ]
  },
  {
   "cell_type": "code",
   "execution_count": 31,
   "metadata": {},
   "outputs": [
    {
     "name": "stdout",
     "output_type": "stream",
     "text": [
      "<re.Match object; span=(0, 10), match='Hello 1234'>\n",
      "<re.Match object; span=(0, 10), match='Hello 1234'>\n"
     ]
    }
   ],
   "source": [
    "print(re.match(\"[a-zA-Z0-9 ]+\", \"Hello 1234\"))  # ' '로 공백 표현\n",
    "print(re.match(\"[a-zA-Z0-9\\s]+\", \"Hello 1234\"))  # \\s로 공백 표현"
   ]
  },
  {
   "cell_type": "markdown",
   "metadata": {},
   "source": [
    "> 참고: 같은 정규표현식 패턴을 자주 사용할 때\n",
    "\n",
    "match나 search 함수에 정규표현식 패턴을 지정하는 방법은 비효율적\n",
    "같은 패턴을 자주 사용할 때는 compile 함수를 사용하여 정규표현식 객체로 만든 뒤 match, search 메서드를 호출하면 된다.\n",
    "\n",
    "```python\n",
    "객체 = re.compile(\"패턴\")\n",
    "객체.match(\"문자열\")\n",
    "객체.search(\"문자열\")\n",
    "```"
   ]
  },
  {
   "cell_type": "code",
   "execution_count": 32,
   "metadata": {},
   "outputs": [
    {
     "name": "stdout",
     "output_type": "stream",
     "text": [
      "<re.Match object; span=(0, 4), match='1234'>\n",
      "None\n"
     ]
    }
   ],
   "source": [
    "p = re.compile(\"[0-9]+\")  # 정규표현식 객체로 만듦\n",
    "print(p.match(\"1234\"))  # 정규표현식 객체에서 match 메서드 사용\n",
    "print(p.search(\"hello\"))"
   ]
  },
  {
   "cell_type": "code",
   "execution_count": null,
   "metadata": {},
   "outputs": [],
   "source": []
  }
 ],
 "metadata": {
  "kernelspec": {
   "display_name": "Python 3.10.4 ('basic')",
   "language": "python",
   "name": "python3"
  },
  "language_info": {
   "codemirror_mode": {
    "name": "ipython",
    "version": 3
   },
   "file_extension": ".py",
   "mimetype": "text/x-python",
   "name": "python",
   "nbconvert_exporter": "python",
   "pygments_lexer": "ipython3",
   "version": "3.10.4"
  },
  "orig_nbformat": 4,
  "vscode": {
   "interpreter": {
    "hash": "c8f0a417b36daf86aafec4013139ac5baf8e417b175f66de0fc0829ed0d1013f"
   }
  }
 },
 "nbformat": 4,
 "nbformat_minor": 2
}
