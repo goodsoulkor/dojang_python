{
 "cells": [
  {
   "cell_type": "markdown",
   "metadata": {},
   "source": [
    "## 47.1 비트 연산자 사용하기\n",
    "\n",
    "### 47.1.1 10진수와 2진수 변환하기\n",
    "\n",
    "10진수를 2진수로 된 문자열로 변환할 때는 bin을 사용한다.\n",
    "반대로 2진수에서 10진수로는 입력 즉시 변환된다.\n",
    "- `bin(정수)`"
   ]
  },
  {
   "cell_type": "code",
   "execution_count": 2,
   "metadata": {},
   "outputs": [
    {
     "name": "stdout",
     "output_type": "stream",
     "text": [
      "0b1101\n"
     ]
    },
    {
     "data": {
      "text/plain": [
       "13"
      ]
     },
     "execution_count": 2,
     "metadata": {},
     "output_type": "execute_result"
    }
   ],
   "source": [
    "print(bin(13))\n",
    "0b1101"
   ]
  },
  {
   "cell_type": "markdown",
   "metadata": {},
   "source": [
    "2진수가 문자열 형태면 int에 문자열과 2를 지정하여 10진수로 변환할 수 있다.\n",
    "코드에서 2진수를 직접 입력할 때는 맨 앞에 0b를 붙인다.\n",
    "- `int('1101', 2)`"
   ]
  },
  {
   "cell_type": "code",
   "execution_count": 3,
   "metadata": {},
   "outputs": [
    {
     "data": {
      "text/plain": [
       "13"
      ]
     },
     "execution_count": 3,
     "metadata": {},
     "output_type": "execute_result"
    }
   ],
   "source": [
    "int(\"1101\", 2)"
   ]
  },
  {
   "cell_type": "markdown",
   "metadata": {},
   "source": [
    "### 47.1.2 2진수 표현 방법\n",
    "\n",
    "10진수 13을 2진수로 표현하면 1101\n",
    "여기서 2진수의 자릿수는 일정한 값을 가짐\n",
    "낮은 자릿수부터 2의 거듭제곱 순서로 커진다.(2<sup>0</sup> 부터 시작)\n",
    "\n",
    "![13을 2진수로 표현](https://dojang.io/pluginfile.php/14088/mod_page/content/4/047001.png)"
   ]
  },
  {
   "cell_type": "markdown",
   "metadata": {},
   "source": [
    "### 47.1.3 비트 논리 연산자 사용하기\n",
    "\n",
    "2진수의 각 자릿수를 AND, OR, XOR, NOT 연산하기\n",
    "- a & b\n",
    "- a | b\n",
    "- a ^ b\n",
    "- ~x"
   ]
  },
  {
   "cell_type": "code",
   "execution_count": 10,
   "metadata": {},
   "outputs": [
    {
     "name": "stdout",
     "output_type": "stream",
     "text": [
      "0b1001\n",
      "9\n",
      "0b1101\n",
      "13\n",
      "0b0\n",
      "4\n",
      "-0b1110\n",
      "-14\n"
     ]
    }
   ],
   "source": [
    "print(bin(0b1101 & 0b1001))\n",
    "print(13 & 9)\n",
    "\n",
    "print(bin(0b1101 | 0b1001))\n",
    "print(13 | 9)\n",
    "\n",
    "print(bin(0b1101 ^ 0b1101))\n",
    "print(13 ^ 9)\n",
    "\n",
    "print(bin(~0b1101))\n",
    "print(~13)"
   ]
  },
  {
   "cell_type": "markdown",
   "metadata": {},
   "source": [
    "다음과 같이 비트 논리 연산자는 각 자릿수를 연산하여 결과를 만든다.\n",
    "\n",
    "![비트단위연산](https://dojang.io/pluginfile.php/14088/mod_page/content/4/047002.png)"
   ]
  }
 ],
 "metadata": {
  "kernelspec": {
   "display_name": "Python 3.10.4 ('basic')",
   "language": "python",
   "name": "python3"
  },
  "language_info": {
   "codemirror_mode": {
    "name": "ipython",
    "version": 3
   },
   "file_extension": ".py",
   "mimetype": "text/x-python",
   "name": "python",
   "nbconvert_exporter": "python",
   "pygments_lexer": "ipython3",
   "version": "3.10.4"
  },
  "orig_nbformat": 4,
  "vscode": {
   "interpreter": {
    "hash": "c8f0a417b36daf86aafec4013139ac5baf8e417b175f66de0fc0829ed0d1013f"
   }
  }
 },
 "nbformat": 4,
 "nbformat_minor": 2
}
