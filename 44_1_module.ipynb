{
 "cells": [
  {
   "cell_type": "markdown",
   "metadata": {},
   "source": [
    "# unit 44. 모듈과 패키지 사용하기\n",
    "\n",
    "## 44.1 import로 모듈 가져오기\n",
    "\n",
    "모듈은 각종 변수, 함수, 클래스를 담고 있는 파일\n",
    "패키지는 여러 모듈을 묶은 것\n",
    "\n",
    "> 참고: 모듈, 패키지, 라이브러리\n",
    "> 모듈: 특정 기능을 .py 파일 단위로 작성한 것\n",
    "> 패키지: 특정 기능과 관련된 여러 모듈을 묶은 것, 패키지에는 네임스페이스를 제공\n",
    "> 파이썬 표준 라이브러리: 파이썬에 기본으로 설치된 모듈과 패키지, 내장 함수를 묶어서 파이썬 표준 라이브러리라 부른다.\n",
    "\n",
    "모듈은 import 키워드로 가져올 수 있다.(여러 개 일때는 콤마로 구분)\n",
    "- import 모듈\n",
    "  - import 모듈1, 모듈2\n",
    "  - 모듈.변수\n",
    "  - 모듈.함수()\n",
    "  - 모듈.클래스()"
   ]
  },
  {
   "cell_type": "code",
   "execution_count": 1,
   "metadata": {},
   "outputs": [
    {
     "name": "stdout",
     "output_type": "stream",
     "text": [
      "3.141592653589793\n"
     ]
    }
   ],
   "source": [
    "# math 모듈 원주율 출력\n",
    "import math\n",
    "\n",
    "print(math.pi)"
   ]
  },
  {
   "cell_type": "code",
   "execution_count": 2,
   "metadata": {},
   "outputs": [
    {
     "name": "stdout",
     "output_type": "stream",
     "text": [
      "2.0\n",
      "1.4142135623730951\n"
     ]
    }
   ],
   "source": [
    "# 제곱근 함수 sqrt\n",
    "print(math.sqrt(4.0))\n",
    "print(math.sqrt(2.0))"
   ]
  },
  {
   "cell_type": "markdown",
   "metadata": {},
   "source": [
    "### 44.1.1 import as 로 모듈 이름 지정하기\n",
    "\n",
    "- import 모듈 as 이름"
   ]
  },
  {
   "cell_type": "code",
   "execution_count": 3,
   "metadata": {},
   "outputs": [
    {
     "name": "stdout",
     "output_type": "stream",
     "text": [
      "2.0\n",
      "1.4142135623730951\n"
     ]
    }
   ],
   "source": [
    "import math as m\n",
    "\n",
    "print(m.sqrt(4.0))\n",
    "print(m.sqrt(2.0))"
   ]
  },
  {
   "cell_type": "markdown",
   "metadata": {},
   "source": [
    "### 44.1.2 from import로 모듈의 일부만 가져오기\n",
    "\n",
    "- from 모듈 import 변수"
   ]
  },
  {
   "cell_type": "code",
   "execution_count": 4,
   "metadata": {},
   "outputs": [
    {
     "name": "stdout",
     "output_type": "stream",
     "text": [
      "3.141592653589793\n"
     ]
    }
   ],
   "source": [
    "from math import pi\n",
    "\n",
    "print(pi)"
   ]
  },
  {
   "cell_type": "markdown",
   "metadata": {},
   "source": [
    "- from 모듈 import 함수\n",
    "- from 모듈 import 클래스"
   ]
  },
  {
   "cell_type": "code",
   "execution_count": 5,
   "metadata": {},
   "outputs": [
    {
     "name": "stdout",
     "output_type": "stream",
     "text": [
      "2.0\n",
      "1.4142135623730951\n"
     ]
    }
   ],
   "source": [
    "from math import sqrt\n",
    "\n",
    "print(sqrt(4.0))\n",
    "print(sqrt(2.0))"
   ]
  },
  {
   "cell_type": "markdown",
   "metadata": {},
   "source": [
    "변수, 함수, 클래스 등 여러개 가져오기\n",
    "- from 모듈 import 변수, 함수, 클래스"
   ]
  },
  {
   "cell_type": "code",
   "execution_count": 7,
   "metadata": {},
   "outputs": [
    {
     "name": "stdout",
     "output_type": "stream",
     "text": [
      "3.141592653589793\n",
      "2.0\n"
     ]
    }
   ],
   "source": [
    "from math import pi, sqrt\n",
    "\n",
    "print(pi)\n",
    "print(sqrt(4.0))"
   ]
  },
  {
   "cell_type": "markdown",
   "metadata": {},
   "source": [
    "모든 변수, 함수, 클래스 가져오기\n",
    "- from 모듈 import *"
   ]
  },
  {
   "cell_type": "code",
   "execution_count": 8,
   "metadata": {},
   "outputs": [
    {
     "name": "stdout",
     "output_type": "stream",
     "text": [
      "3.141592653589793\n",
      "2.0\n"
     ]
    }
   ],
   "source": [
    "from math import *\n",
    "\n",
    "print(pi)\n",
    "print(sqrt(4.0))"
   ]
  },
  {
   "cell_type": "markdown",
   "metadata": {},
   "source": [
    "### 43.1.3 from import로 모듈의 일부를 가져온 뒤 이름 지정하기\n",
    "\n",
    "- from 모듈 import 변수 as 이름\n",
    "- from 모듈 import 함수 as 이름\n",
    "- from 모듈 import 클래스 as 이름"
   ]
  },
  {
   "cell_type": "code",
   "execution_count": 9,
   "metadata": {},
   "outputs": [
    {
     "name": "stdout",
     "output_type": "stream",
     "text": [
      "2.0\n"
     ]
    }
   ],
   "source": [
    "from math import sqrt as s\n",
    "\n",
    "print(s(4.0))"
   ]
  },
  {
   "cell_type": "markdown",
   "metadata": {},
   "source": [
    "여러 개를 가져올 때 각각 이름 지정\n",
    "- from 모듈 import 변수 as 이름1, 함수 as 이름2, 클래스 as 이름3"
   ]
  },
  {
   "cell_type": "code",
   "execution_count": 10,
   "metadata": {},
   "outputs": [
    {
     "name": "stdout",
     "output_type": "stream",
     "text": [
      "3.141592653589793\n",
      "2.0\n"
     ]
    }
   ],
   "source": [
    "from math import pi as p, sqrt as s\n",
    "\n",
    "print(p)\n",
    "print(s(4.0))"
   ]
  },
  {
   "cell_type": "markdown",
   "metadata": {},
   "source": [
    "> 참고: 가져온 모듈 해제하기, 다시 가져오기\n",
    "> import로 가져온 모듈(변수, 함수, 클래스)는 del로 해제할 수 있다."
   ]
  },
  {
   "cell_type": "code",
   "execution_count": 11,
   "metadata": {},
   "outputs": [
    {
     "data": {
      "text/plain": [
       "<module 'math' from '/Users/goodsoul/miniconda3/envs/basic/lib/python3.10/lib-dynload/math.cpython-310-darwin.so'>"
      ]
     },
     "execution_count": 11,
     "metadata": {},
     "output_type": "execute_result"
    }
   ],
   "source": [
    "import math\n",
    "del math\n",
    "\n",
    "# 모듈을 다시 가져오려면 importlib.reload를 사용\n",
    "import importlib\n",
    "import math\n",
    "importlib.reload(math)"
   ]
  },
  {
   "cell_type": "markdown",
   "metadata": {},
   "source": [
    "## 44.2 import로 패키지 가져오기\n",
    "\n",
    "- import 패키지.모듈\n",
    "- import 패키지.모듈1, 패키지.모듈2\n",
    "- 패키지.모듈.변수\n",
    "- 패키지.모듈.함수()\n",
    "- 패키지.모듈.클래스()"
   ]
  },
  {
   "cell_type": "code",
   "execution_count": 12,
   "metadata": {},
   "outputs": [
    {
     "name": "stdout",
     "output_type": "stream",
     "text": [
      "200\n"
     ]
    }
   ],
   "source": [
    "import urllib.request\n",
    "\n",
    "response = urllib.request.urlopen(\"http://www.google.com\")\n",
    "print(response.status)"
   ]
  },
  {
   "cell_type": "markdown",
   "metadata": {},
   "source": [
    "### 44.2.1 import as 로 패키지 모듈 이름 지정하기\n",
    "\n",
    "- import 패키지.모듈 as 이름"
   ]
  },
  {
   "cell_type": "code",
   "execution_count": 13,
   "metadata": {},
   "outputs": [
    {
     "name": "stdout",
     "output_type": "stream",
     "text": [
      "200\n"
     ]
    }
   ],
   "source": [
    "import urllib.request as r\n",
    "\n",
    "response = r.urlopen(\"http://www.google.com\")\n",
    "print(response.status)"
   ]
  },
  {
   "cell_type": "markdown",
   "metadata": {},
   "source": [
    "### 44.2.2 from import로 패키지의 모듈에서 일부만 가져오기\n",
    "\n",
    "- from 패키지.모듈 import 변수\n",
    "- from 패키지.모듈 import 함수\n",
    "- from 패키지.모듈 import 클래스\n",
    "- from 패키지.모듈 import 변수, 함수, 클래스"
   ]
  },
  {
   "cell_type": "code",
   "execution_count": 14,
   "metadata": {},
   "outputs": [
    {
     "name": "stdout",
     "output_type": "stream",
     "text": [
      "200\n"
     ]
    }
   ],
   "source": [
    "from urllib.request import Request, urlopen\n",
    "\n",
    "req = Request(\"http://www.google.com\")\n",
    "response = urlopen(req)\n",
    "print(response.status)"
   ]
  },
  {
   "cell_type": "markdown",
   "metadata": {},
   "source": [
    "패키지의 모듈에서 모든 변수, 함수, 클래스 가져오기\n",
    "- from 패키지.모듈 import *"
   ]
  },
  {
   "cell_type": "code",
   "execution_count": 15,
   "metadata": {},
   "outputs": [
    {
     "name": "stdout",
     "output_type": "stream",
     "text": [
      "200\n"
     ]
    }
   ],
   "source": [
    "from urllib.request import *\n",
    "\n",
    "req = Request(\"http://www.google.com\")\n",
    "response = urlopen(req)\n",
    "print(response.status)"
   ]
  },
  {
   "cell_type": "markdown",
   "metadata": {},
   "source": [
    "### 44.2.3 from import로 패키지의 모듈의 일부를 가져온 뒤 이름 지정하기\n",
    "\n",
    "- from 패키지.모듈 import 변수 as 이름\n",
    "- from 패키지.모듈 import 변수 as 이름, 함수 as 이름, 클래스 as 이름"
   ]
  },
  {
   "cell_type": "code",
   "execution_count": 16,
   "metadata": {},
   "outputs": [
    {
     "name": "stdout",
     "output_type": "stream",
     "text": [
      "200\n"
     ]
    }
   ],
   "source": [
    "from urllib.request import Request as r, urlopen as u\n",
    "\n",
    "req = r(\"http://www.google.com\")\n",
    "response = u(req)\n",
    "print(response.status)"
   ]
  }
 ],
 "metadata": {
  "kernelspec": {
   "display_name": "Python 3.10.4 ('basic')",
   "language": "python",
   "name": "python3"
  },
  "language_info": {
   "codemirror_mode": {
    "name": "ipython",
    "version": 3
   },
   "file_extension": ".py",
   "mimetype": "text/x-python",
   "name": "python",
   "nbconvert_exporter": "python",
   "pygments_lexer": "ipython3",
   "version": "3.10.4"
  },
  "orig_nbformat": 4,
  "vscode": {
   "interpreter": {
    "hash": "c8f0a417b36daf86aafec4013139ac5baf8e417b175f66de0fc0829ed0d1013f"
   }
  }
 },
 "nbformat": 4,
 "nbformat_minor": 2
}
