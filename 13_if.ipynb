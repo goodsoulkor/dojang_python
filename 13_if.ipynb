{
 "cells": [
  {
   "cell_type": "markdown",
   "metadata": {},
   "source": [
    "# 13. if 조건문으로 특정 조건일 때 코드 실행하기\n",
    "\n",
    "## 13.1 if 조건문 사용하기"
   ]
  },
  {
   "cell_type": "code",
   "execution_count": 1,
   "metadata": {},
   "outputs": [
    {
     "name": "stdout",
     "output_type": "stream",
     "text": [
      "10입니다.\n"
     ]
    }
   ],
   "source": [
    "x = 10\n",
    "if x == 10:\n",
    "    print(\"10입니다.\")"
   ]
  },
  {
   "cell_type": "markdown",
   "metadata": {},
   "source": [
    "### 13.1.1 if 조건문의 기본 형태와 실행 흐름\n",
    "\n",
    "![if 조건문의 기본형태](https://dojang.io/pluginfile.php/13561/mod_page/content/2/013001.png)\n",
    "\n",
    "![if 조건문의 실행 흐름](https://dojang.io/pluginfile.php/13561/mod_page/content/2/013002.png)"
   ]
  },
  {
   "cell_type": "markdown",
   "metadata": {},
   "source": [
    "### 13.1.2 if 조건문을 사용할 때 주의점\n",
    "\n",
    "1. 값을 비교할 때는 ==로 사용해야한다.\n",
    "2. 조건식 끝에 :을 빠뜨리지 않게 조심"
   ]
  },
  {
   "cell_type": "markdown",
   "metadata": {},
   "source": [
    "### 13.1.3 if 조건문에서 코드 생략하기"
   ]
  },
  {
   "cell_type": "code",
   "execution_count": 2,
   "metadata": {},
   "outputs": [],
   "source": [
    "x = 10\n",
    "if x == 10:\n",
    "    pass"
   ]
  },
  {
   "cell_type": "markdown",
   "metadata": {},
   "source": [
    "pass는 아무것도 하지 않고 그냥 넘어간다는 뜻  \n",
    "if 다음 줄에 아무 코드도 넣지 않으면 에러가 발생하므로 if 조건문의 형태를 유지하기 위해 사용한다.  \n",
    "pass만 넣고 나중에 할 일은 주석으로 남겨 놓는 형식으로 많이 쓴다."
   ]
  },
  {
   "cell_type": "code",
   "execution_count": 3,
   "metadata": {},
   "outputs": [],
   "source": [
    "if x == 10:\n",
    "    pass  # TODO: x가 10일 때 처리가 필요함"
   ]
  },
  {
   "cell_type": "markdown",
   "metadata": {},
   "source": [
    "## 13.2 if 조건문과 들여쓰기"
   ]
  },
  {
   "cell_type": "code",
   "execution_count": null,
   "metadata": {},
   "outputs": [],
   "source": [
    "# indent error\n",
    "x = 10\n",
    "if x == 10:\n",
    "    print(\"x에 들어있는 숫자는\")\n",
    "        print(\"10 입니다.\")  # unexpected indent 에러 발생"
   ]
  },
  {
   "cell_type": "code",
   "execution_count": 4,
   "metadata": {},
   "outputs": [
    {
     "name": "stdout",
     "output_type": "stream",
     "text": [
      "x에 들어있는 숫자는\n",
      "10 입니다.\n"
     ]
    }
   ],
   "source": [
    "# if indent\n",
    "x = 10\n",
    "if x == 10:\n",
    "    print(\"x에 들어있는 숫자는\")\n",
    "    print(\"10 입니다.\")"
   ]
  },
  {
   "cell_type": "code",
   "execution_count": 5,
   "metadata": {},
   "outputs": [
    {
     "name": "stdout",
     "output_type": "stream",
     "text": [
      "10입니다.\n"
     ]
    }
   ],
   "source": [
    "# if wrong indent\n",
    "x = 5\n",
    "if x == 10:\n",
    "    print(\"x에 들어있는 숫자는\")\n",
    "print(\"10입니다.\")"
   ]
  },
  {
   "cell_type": "markdown",
   "metadata": {},
   "source": [
    "## 13.3 중첩 if 조건문 사용하기\n",
    "\n",
    "if를 여러번 사용하는 중첩 if 조건문"
   ]
  },
  {
   "cell_type": "code",
   "execution_count": 6,
   "metadata": {},
   "outputs": [
    {
     "name": "stdout",
     "output_type": "stream",
     "text": [
      "10 이상입니다.\n",
      "15입니다.\n"
     ]
    }
   ],
   "source": [
    "x = 15\n",
    "\n",
    "if x >= 10:\n",
    "    print(\"10 이상입니다.\")\n",
    "\n",
    "    if x == 15:\n",
    "        print(\"15입니다.\")\n",
    "    \n",
    "    if x == 20:\n",
    "        print(\"20 입니다.\")"
   ]
  },
  {
   "cell_type": "markdown",
   "metadata": {},
   "source": [
    "## 13.4 사용자가 입력한 값에 if 조건문 사용\n",
    "\n",
    "input을 사용하여 사용자가 입력한 값을 변수에 저장하고, if 조건문으로 값을 비교한다."
   ]
  },
  {
   "cell_type": "code",
   "execution_count": 7,
   "metadata": {},
   "outputs": [
    {
     "name": "stdout",
     "output_type": "stream",
     "text": [
      "10 입니다.\n"
     ]
    }
   ],
   "source": [
    "x = int(input())\n",
    "\n",
    "if x == 10:\n",
    "    print(\"10 입니다.\")\n",
    "\n",
    "if x == 20:\n",
    "    print(\"20 입니다.\")"
   ]
  },
  {
   "cell_type": "markdown",
   "metadata": {},
   "source": [
    "## 13.6 연습문제 : if 조건문 사용하기\n",
    "\n",
    "다음 소스 코드를 완성하여 x의 값이 10이 아닐 대 'ok'가 출력되게 만드세요."
   ]
  },
  {
   "cell_type": "code",
   "execution_count": 8,
   "metadata": {},
   "outputs": [
    {
     "name": "stdout",
     "output_type": "stream",
     "text": [
      "ok\n"
     ]
    }
   ],
   "source": [
    "x = 5\n",
    "if x != 10:\n",
    "    print('ok')"
   ]
  }
 ],
 "metadata": {
  "kernelspec": {
   "display_name": "Python 3.10.4 ('basic')",
   "language": "python",
   "name": "python3"
  },
  "language_info": {
   "codemirror_mode": {
    "name": "ipython",
    "version": 3
   },
   "file_extension": ".py",
   "mimetype": "text/x-python",
   "name": "python",
   "nbconvert_exporter": "python",
   "pygments_lexer": "ipython3",
   "version": "3.10.4"
  },
  "orig_nbformat": 4,
  "vscode": {
   "interpreter": {
    "hash": "c8f0a417b36daf86aafec4013139ac5baf8e417b175f66de0fc0829ed0d1013f"
   }
  }
 },
 "nbformat": 4,
 "nbformat_minor": 2
}
