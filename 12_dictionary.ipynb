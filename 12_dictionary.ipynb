{
 "cells": [
  {
   "cell_type": "markdown",
   "metadata": {},
   "source": [
    "### Unit 12. 딕셔너리 사용하기"
   ]
  },
  {
   "cell_type": "markdown",
   "metadata": {},
   "source": [
    "게임 캐릭터의 능력치를 딕셔너리에 저장"
   ]
  },
  {
   "cell_type": "code",
   "execution_count": 1,
   "metadata": {},
   "outputs": [],
   "source": [
    "lux = {\"health\": 490, \"man\": 334, \"melee\": 550, \"armor\": 18.72}"
   ]
  },
  {
   "cell_type": "markdown",
   "metadata": {},
   "source": [
    "#### 12.1 딕셔너리 만들기\n",
    "\n",
    "딕셔너리는 {} 중괄호 안에 키: 값 형식으로 저장하고 각 키와 값은 ,(콤마)로 구분한다.  \n",
    "> 딕셔너리 = {키1: 값1, 키2: 값2}"
   ]
  },
  {
   "cell_type": "code",
   "execution_count": 2,
   "metadata": {},
   "outputs": [
    {
     "name": "stdout",
     "output_type": "stream",
     "text": [
      "{'health': 490, 'mana': 334, 'melee': 550, 'armor': 18.72}\n"
     ]
    }
   ],
   "source": [
    "# 키와 값이 4개씩 들어있는 딕셔너리 만들기\n",
    "lux = {\"health\": 490, \"mana\": 334, \"melee\": 550, \"armor\": 18.72}\n",
    "print(lux)"
   ]
  },
  {
   "cell_type": "markdown",
   "metadata": {},
   "source": [
    "##### 12.1.1 키 이름이 중복되면?\n",
    "\n",
    "중복되는 키는 저장되지 않고 가장 뒤에 있는 값만 사용한다."
   ]
  },
  {
   "cell_type": "code",
   "execution_count": 4,
   "metadata": {},
   "outputs": [
    {
     "name": "stdout",
     "output_type": "stream",
     "text": [
      "800\n",
      "{'health': 800, 'mana': 334, 'melee': 550, 'armor': 18.72}\n"
     ]
    }
   ],
   "source": [
    "lux = {\"health\": 490, \"health\": 800, \"mana\": 334, \"melee\": 550, \"armor\": 18.72}\n",
    "print(lux[\"health\"])\n",
    "print(lux)"
   ]
  },
  {
   "cell_type": "markdown",
   "metadata": {},
   "source": [
    "##### 12.1.2 딕셔너리 키의 자료형\n",
    "\n",
    "딕셔너리의 키는 문자열뿐만 아니라 정수, 실수, 불도 사용할 수 있으며 자료형을 섞어서 사용해도 된다. 그리고 값에는 리스트, 딕셔너리 등을 포함하여 모든 자료형을 사용할 수 있다."
   ]
  },
  {
   "cell_type": "code",
   "execution_count": 5,
   "metadata": {},
   "outputs": [
    {
     "name": "stdout",
     "output_type": "stream",
     "text": [
      "{100: 'hundred', False: 0, 3.5: [3.5, 3.5]}\n"
     ]
    }
   ],
   "source": [
    "x = {100: \"hundred\", False: 0, 3.5: [3.5, 3.5]}\n",
    "print(x)"
   ]
  },
  {
   "cell_type": "code",
   "execution_count": 6,
   "metadata": {},
   "outputs": [
    {
     "ename": "TypeError",
     "evalue": "unhashable type: 'list'",
     "output_type": "error",
     "traceback": [
      "\u001b[0;31m---------------------------------------------------------------------------\u001b[0m",
      "\u001b[0;31mTypeError\u001b[0m                                 Traceback (most recent call last)",
      "\u001b[1;32m/Users/goodsoul/Documents/01_study/04_fastcampus/dojang/12_dictionary.ipynb Cell 10\u001b[0m in \u001b[0;36m<cell line: 2>\u001b[0;34m()\u001b[0m\n\u001b[1;32m      <a href='vscode-notebook-cell:/Users/goodsoul/Documents/01_study/04_fastcampus/dojang/12_dictionary.ipynb#X26sZmlsZQ%3D%3D?line=0'>1</a>\u001b[0m \u001b[39m# 단 키에는 리스트와 딕셔너리를 사용할 수 없다.\u001b[39;00m\n\u001b[0;32m----> <a href='vscode-notebook-cell:/Users/goodsoul/Documents/01_study/04_fastcampus/dojang/12_dictionary.ipynb#X26sZmlsZQ%3D%3D?line=1'>2</a>\u001b[0m x \u001b[39m=\u001b[39m {[\u001b[39m10\u001b[39m, \u001b[39m20\u001b[39m]: \u001b[39m100\u001b[39m}\n",
      "\u001b[0;31mTypeError\u001b[0m: unhashable type: 'list'"
     ]
    }
   ],
   "source": [
    "# 단 키에는 리스트와 딕셔너리를 사용할 수 없다.\n",
    "x = {[10, 20]: 100}"
   ]
  },
  {
   "cell_type": "markdown",
   "metadata": {},
   "source": [
    "##### 12.1.3 빈 딕셔너리 만들기\n",
    "\n",
    "빈 딕셔너리를 만들 때는 {}만 지정하거나 dict를 사용하면 된다.  \n",
    "보통은 {}를 주로 사용한다.\n",
    ">딕셔너리 = {}  \n",
    ">딕셔너리 = dict()"
   ]
  },
  {
   "cell_type": "code",
   "execution_count": 7,
   "metadata": {},
   "outputs": [
    {
     "name": "stdout",
     "output_type": "stream",
     "text": [
      "{}\n",
      "{}\n"
     ]
    }
   ],
   "source": [
    "x = {}\n",
    "print(x)\n",
    "y = dict()\n",
    "print(y)"
   ]
  },
  {
   "cell_type": "markdown",
   "metadata": {},
   "source": [
    "##### 12.1.4 dict로 딕셔너리 만들기\n",
    "\n",
    "dict는 다음과 같이 키와 값을 연결하거나 리스트, 튜플, 딕셔너리로 딕셔너리를 만들 때 사용한다.\n",
    ">딕셔너리 = dict(키1=값1, 키2=값2)  \n",
    ">딕셔너리 = dict(zip([키1, 키2], [값1, 값2]))  \n",
    ">딕셔너리 = dict([(키1, 값1), (키2, 값2)])  \n",
    ">딕셔너리 = dict({키1: 값2, 키2, 값2})"
   ]
  },
  {
   "cell_type": "code",
   "execution_count": 9,
   "metadata": {},
   "outputs": [
    {
     "name": "stdout",
     "output_type": "stream",
     "text": [
      "{'health': 490, 'mana': 334, 'melee': 550, 'armor': 18.72}\n",
      "{'health': 490, 'mana': 334, 'melee': 550, 'armor': 18.72}\n",
      "{'health': 490, 'mana': 334, 'melee': 550, 'armor': 18.72}\n",
      "{'health': 490, 'mana': 334, 'melee': 550, 'armor': 18.72}\n"
     ]
    }
   ],
   "source": [
    "# 키 = 값 형식으로 만들기\n",
    "lux1 = dict(health=490, mana=334, melee=550, armor=18.72)\n",
    "print(lux1)\n",
    "\n",
    "# zip함수 이용\n",
    "lux2 = dict(zip([\"health\", \"mana\", \"melee\", \"armor\"], [490, 334, 550, 18.72]))\n",
    "print(lux2)\n",
    "\n",
    "# 리스트 안에 (key, value) 형식의 튜플 나열\n",
    "lux3 = dict([(\"health\", 490), (\"mana\", 334), (\"melee\", 550), (\"armor\", 18.72)])\n",
    "print(lux3)\n",
    "\n",
    "# dict 안에서 중괄호로 생성\n",
    "lux4 = dict({\"health\": 490, \"mana\": 334, \"melee\": 550, \"armor\": 18.72})\n",
    "print(lux4)"
   ]
  },
  {
   "cell_type": "markdown",
   "metadata": {},
   "source": [
    "#### 12.2 딕셔너리의 키에 접근하고 값 할당하기\n",
    "\n",
    "딕셔너리 키에 접근할 때는 딕셔너리 뒤에 [ ] 대괄호를 사용하여 [ ]안에 키를 지정해주면 된다.\n",
    ">딕셔너리[키]"
   ]
  },
  {
   "cell_type": "code",
   "execution_count": 11,
   "metadata": {},
   "outputs": [
    {
     "name": "stdout",
     "output_type": "stream",
     "text": [
      "490\n",
      "18.72\n"
     ]
    }
   ],
   "source": [
    "lux = dict(health=490, mana=334, melee=550, armor=18.72)\n",
    "print(lux['health'])\n",
    "print(lux['armor'])"
   ]
  },
  {
   "cell_type": "markdown",
   "metadata": {},
   "source": [
    "##### 12.2.1 딕셔너리 키에 값 할당하기\n",
    "\n",
    "딕셔너리는 [ ]로 키에 접근한 뒤 값을 할당한다.\n",
    ">딕셔너리[키] = 값"
   ]
  },
  {
   "cell_type": "code",
   "execution_count": 12,
   "metadata": {},
   "outputs": [
    {
     "name": "stdout",
     "output_type": "stream",
     "text": [
      "{'health': 2037, 'mana': 1184, 'melee': 550, 'armor': 18.72}\n"
     ]
    }
   ],
   "source": [
    "lux = {\"health\": 490, \"mana\": 334, \"melee\": 550, \"armor\": 18.72}\n",
    "lux[\"health\"] = 2037\n",
    "lux[\"mana\"] = 1184\n",
    "print(lux)"
   ]
  },
  {
   "cell_type": "code",
   "execution_count": 13,
   "metadata": {},
   "outputs": [
    {
     "name": "stdout",
     "output_type": "stream",
     "text": [
      "{'health': 2037, 'mana': 1184, 'melee': 550, 'armor': 18.72, 'mana_regen': 3.18}\n"
     ]
    }
   ],
   "source": [
    "# 없는 키에 값을 할당하면 해당 키가 추가되고 값이 할당된다.\n",
    "lux[\"mana_regen\"] = 3.18\n",
    "print(lux)"
   ]
  },
  {
   "cell_type": "markdown",
   "metadata": {},
   "source": [
    "##### 12.2.2 딕셔너리에 키가 있는지 확인하기\n",
    "\n",
    "in 연산자를 사용해 확인한다.\n",
    ">키 in 딕셔너리"
   ]
  },
  {
   "cell_type": "code",
   "execution_count": 14,
   "metadata": {},
   "outputs": [
    {
     "name": "stdout",
     "output_type": "stream",
     "text": [
      "True\n",
      "False\n"
     ]
    }
   ],
   "source": [
    "lux = {\"health\": 490, \"mana\": 334, \"melee\": 550, \"armor\": 18.72}\n",
    "print(\"health\" in lux)\n",
    "print(\"attack_speed\" in lux)"
   ]
  },
  {
   "cell_type": "code",
   "execution_count": 15,
   "metadata": {},
   "outputs": [
    {
     "name": "stdout",
     "output_type": "stream",
     "text": [
      "True\n",
      "False\n"
     ]
    }
   ],
   "source": [
    "# not in 을 사용하면 없는지 확인한다.\n",
    "print(\"attack_speed\" not in lux)\n",
    "print(\"health\" not in lux)"
   ]
  },
  {
   "cell_type": "markdown",
   "metadata": {},
   "source": [
    "##### 12.2.3 딕셔너리의 키 개수 구하기\n",
    "\n",
    "len 함수를 사용해 구한다."
   ]
  },
  {
   "cell_type": "code",
   "execution_count": 16,
   "metadata": {},
   "outputs": [
    {
     "name": "stdout",
     "output_type": "stream",
     "text": [
      "4\n",
      "{'health': 490, 'mana': 334, 'melee': 550, 'armor': 18.72}\n"
     ]
    }
   ],
   "source": [
    "print(len(lux))\n",
    "print(lux)"
   ]
  },
  {
   "cell_type": "markdown",
   "metadata": {},
   "source": [
    "#### 12.4 연습문제: 딕셔너리에 게임 캐릭터 능력치 저장하기"
   ]
  },
  {
   "cell_type": "code",
   "execution_count": 17,
   "metadata": {},
   "outputs": [
    {
     "name": "stdout",
     "output_type": "stream",
     "text": [
      "575.6\n",
      "340\n"
     ]
    }
   ],
   "source": [
    "# 체력(health)과 이동속도(movement speed)를 출력하라\n",
    "camille = {\n",
    "    \"health\": 575.6,\n",
    "    \"health_regen\": 1.7,\n",
    "    \"mana\": 338.8,\n",
    "    \"mana_regen\": 1.63,\n",
    "    \"melee\": 125,\n",
    "    \"attack_damage\": 60,\n",
    "    \"attack_speed\": 0.625,\n",
    "    \"armor\": 26,\n",
    "    \"magic_resistance\": 32.1,\n",
    "    \"movement_speed\": 340\n",
    "}\n",
    "\n",
    "print(camille[\"health\"])\n",
    "print(camille[\"movement_speed\"])"
   ]
  }
 ],
 "metadata": {
  "kernelspec": {
   "display_name": "Python 3.10.4 ('basic')",
   "language": "python",
   "name": "python3"
  },
  "language_info": {
   "codemirror_mode": {
    "name": "ipython",
    "version": 3
   },
   "file_extension": ".py",
   "mimetype": "text/x-python",
   "name": "python",
   "nbconvert_exporter": "python",
   "pygments_lexer": "ipython3",
   "version": "3.10.4"
  },
  "orig_nbformat": 4,
  "vscode": {
   "interpreter": {
    "hash": "c8f0a417b36daf86aafec4013139ac5baf8e417b175f66de0fc0829ed0d1013f"
   }
  }
 },
 "nbformat": 4,
 "nbformat_minor": 2
}
