{
 "cells": [
  {
   "cell_type": "markdown",
   "metadata": {},
   "source": [
    "# 핵심정리\n",
    "\n",
    "## 예외 처리\n",
    "예외란 코드 실행 중 발생한 에러를 뜻한다. 예외 처리를 하려면 try에 실행할 코드를 넣고 except에 예외가 발생했을 때 처리할 코드를 넣어 준다. 그리고 else는 예외가 발생하지 않았을 때 코드를 실행하며 finally는 예외 발생 여부와 상관 없이 항상 코드를 실행한다.\n",
    "\n",
    "```python\n",
    "try:\n",
    "    실행할 코드\n",
    "except:\n",
    "    예외가 발생했을 때 처리하는 코드\n",
    "else:\n",
    "    예외가 발생하지 않았을 때 실행할 코드\n",
    "finally:\n",
    "    예외 발생 여부와 상관없이 항상 실행할 코드\n",
    "```\n",
    "\n",
    "try의 코드가 에러 없이 잘 실행되면 except의 코드는 실행되지 않으며 try의 코드에서 에러가 발생했을 때문 except의 코드가 실행된다.\n",
    "\n",
    "except에 예외 이름을 지정하면 특정 예외가 발생했을 때만 처리 코드를 실행할 수 있다.\n",
    "```python\n",
    "try:\n",
    "    실행할 코드\n",
    "except 예외이름:  # 특정 예외가 발생했을 때만 처리 코드를 실행\n",
    "    예외가 발생했을 때 처리하는 코드\n",
    "\n",
    "try:\n",
    "    실행할 코드\n",
    "except 예외이름 as 변수:  # 발생할 예외의 에러 메시지가 변수에 들어감\n",
    "    예외가 발생했을 때 처리하는 코드\n",
    "```"
   ]
  },
  {
   "cell_type": "markdown",
   "metadata": {},
   "source": [
    "## 예외 발생 시키기\n",
    "\n",
    "예외를 발생 시킬 때는 raise에 Exception을 지정하고 에러 메시지를 넣는다.\n",
    "\n",
    "```python\n",
    "try:\n",
    "    raise Exception(에러메시지)  # 예외를 발생\n",
    "except Exception as e:  # 예외 발생 시 실행\n",
    "    print(e)  # Exception에 지정한 에러 메시지가 e에 들어감\n",
    "```\n",
    "\n",
    "except 안에서 raise만 사용하면 현재 예외를 다시 상위 코드로 넘긴다.\n",
    "\n",
    "```python\n",
    "def 함수A():\n",
    "    try:\n",
    "        raise Exception(에러메시지)  # 예외 발생\n",
    "    except Exception as e:  # 함수 안에서 예외 처리\n",
    "        raise  # raise만 사용하면 현재 예외를 다시 상위 코드 블록으로 넘김\n",
    "\n",
    "try:\n",
    "    함수A()\n",
    "except Exception as e:  # 하위 코드 블록에서 예외가 발생해도 실행\n",
    "    print(e)"
   ]
  },
  {
   "cell_type": "markdown",
   "metadata": {},
   "source": [
    "## 예외 만들기\n",
    "\n",
    "예외를 만들 때는 Exception을 상속 받아 새로운 클래스를 만들고, ```__init__``` 메서드 기반의 클래스의 ```__init__``` 메서드를 호출하면서 에러 메시지를 넣는다.\n",
    "\n",
    "~~~python\n",
    "class 예외이름(Exception):  # 예외 만들기\n",
    "    def __init__(self):\n",
    "        super().__init__(\"에러메시지\")\n",
    "\n",
    "raise 예외  # 예외 발생 시키기"
   ]
  },
  {
   "cell_type": "markdown",
   "metadata": {},
   "source": [
    "## 반복 가능한 객체와 이터레이터\n",
    "\n",
    "반복 가능한 객체는 문자열, 리스트, 튜플, range, 딕셔너리, 세트 등이 있다.\n",
    "반복 가능한 객체에서 ```__iter__``` 메서드 또는 iter 함수를 호출하면 이터레이터가 나온다.\n",
    "이터레이터에서 ```__next__``` 메서드 또는 next 함수를 호출하면 반복 가능한 객체의 요소를 차례로 꺼낼 수 있다."
   ]
  },
  {
   "cell_type": "code",
   "execution_count": 1,
   "metadata": {},
   "outputs": [
    {
     "data": {
      "text/plain": [
       "'p'"
      ]
     },
     "execution_count": 1,
     "metadata": {},
     "output_type": "execute_result"
    }
   ],
   "source": [
    "word = \"python\"  # 문자열: 반복 가능한 객체\n",
    "iterator = word.__iter__()  # 반복 가능한 객체에서 이터레이터를 얻음\n",
    "iterator.__next__()  # 반복 가능한 객체의 요소를 차례대로 꺼냄\n",
    "\n",
    "iterator2 = iter(word)  # iter 함수 사용\n",
    "next(iterator2)  # next 함수 사용"
   ]
  },
  {
   "cell_type": "markdown",
   "metadata": {},
   "source": [
    "## 이터레이터 만들기\n",
    "\n",
    "클래스에서 ```__iter__, __next__``` 메서드를 구현하면 이터레이터가 된다.\n",
    "이렇게 만든 이터레이터는 반복 가능한 객체이면서 이터레이터 이다."
   ]
  },
  {
   "cell_type": "markdown",
   "metadata": {},
   "source": [
    "```python\n",
    "class 이터레이터이름:\n",
    "    def __init__(self):\n",
    "        return self\n",
    "    \n",
    "    def __next__(self):\n",
    "        값 생성 코드, 반복을 끝내려면 StopIteration 예외 발생\n",
    "\n",
    "이터레이터객체 = 이터레이터()\n",
    "이터레이터.__next__()\n",
    "next(이터레이터)\n",
    "\n",
    "for i in 이터레이터():  # 이터레이터를 반복문에 사용\n",
    "    pass"
   ]
  },
  {
   "cell_type": "code",
   "execution_count": 7,
   "metadata": {},
   "outputs": [
    {
     "name": "stdout",
     "output_type": "stream",
     "text": [
      "0 1 2 3 4 5 6 7 8 9 \n",
      "0\n",
      "1\n"
     ]
    }
   ],
   "source": [
    "class num_iterator:\n",
    "    def __init__(self):\n",
    "        self.num = 0\n",
    "    \n",
    "    def __iter__(self):\n",
    "        return self\n",
    "    \n",
    "    def __next__(self):\n",
    "        if self.num < 10:\n",
    "            r = self.num\n",
    "            self.num += 1\n",
    "            return r\n",
    "        else:\n",
    "            raise StopIteration\n",
    "\n",
    "for i in num_iterator():\n",
    "    print(i, end=\" \")\n",
    "print()\n",
    "\n",
    "num_iter = num_iterator()\n",
    "print(num_iter.__next__())\n",
    "print(next(num_iter))"
   ]
  },
  {
   "cell_type": "markdown",
   "metadata": {},
   "source": [
    "클래스에 ```__getitem__``` 메서드를 구현하면 인덱스로 접근할 수 있는 이터레이터가 된다.\n",
    "이때는 ```__iter__와 __next__``` 메서드는 생략해도 된다.\n",
    "\n",
    "```python\n",
    "class 이터레이터이름:\n",
    "    def __getitem__(self, index):\n",
    "        인덱스에 해당하는 값을 반환하는 코드, 지정된 범위를 벗어났다면 IndexError 발생 시킴\n",
    "\n",
    "이터레이터객체 = 이터레이터()  # 이터레이터 객체 생성\n",
    "이터레이터객체[인덱스]  # 인덱스로 접근\n",
    "```"
   ]
  },
  {
   "cell_type": "code",
   "execution_count": 9,
   "metadata": {},
   "outputs": [
    {
     "name": "stdout",
     "output_type": "stream",
     "text": [
      "0\n",
      "1\n"
     ]
    }
   ],
   "source": [
    "class Counter:\n",
    "    def __init__(self, stop):\n",
    "        self.stop = stop\n",
    "    \n",
    "    def __getitem__(self, index):\n",
    "        if index < self.stop:\n",
    "            return index\n",
    "        else:\n",
    "            raise IndexError\n",
    "\n",
    "print(Counter(3)[0])\n",
    "\n",
    "counter = Counter(3)\n",
    "print(counter[1])\n",
    "\n",
    "# 이터레이터는 값을 미리 만들어 놓지 않고 값이 필요한 시점이 되었을 때 값을 만드는 방식"
   ]
  },
  {
   "cell_type": "markdown",
   "metadata": {},
   "source": [
    "## 이터레이터와 언패킹\n",
    "\n",
    "이터레이터(제너레이터)는 변수 여러 개에 값을 저장하는 언패킹이 가능하다.\n",
    "\n",
    "```변수1, 변수2, 변수3 = 이터레이터()```"
   ]
  },
  {
   "cell_type": "markdown",
   "metadata": {},
   "source": [
    "## 제너레이터\n",
    "\n",
    "제너레이터는 이터레이터를 생성해주는 함수이며 함수 안에서 yield 키워드만 사용하면 된다.\n",
    "제너레이터 함수를 호출하면 제너레이터 객체가 반환되고 제너레이터 객체에서 ```__next__ 메서드 또는 next 함수```를 호출하면 yield까지 실행한 뒤 yield에 지정한 값이 반환값으로 나온다.\n",
    "\n",
    "```python\n",
    "def 제너레이터이름():  # 제너레이터함수 생성\n",
    "    yield 값  # yield로 값 발생\n",
    "\n",
    "제너레이터객체 = 제너레이터()\n",
    "제너레이터객체.__next__()  # __next__ 메서드를 호출하면 yield에 지정한 값이 반환 값으로 나옴\n",
    "next(제너레이터객체)  # next 함수 사용\n",
    "\n",
    "for i in 제너레이터():  # 제너레이터를 반복문에 사용\n",
    "    pass\n",
    "```\n",
    "\n",
    "yield는 값을 함수 바깥으로 전달하면서 코드 실행을 함수 바깥에 양보한다.\n",
    "\n",
    "yield from을 사용하면 값을 여러번 바깥으로 전달한다.\n",
    "\n",
    "```python\n",
    "yield from 반복가능한객체\n",
    "yield from 이터레이터\n",
    "yield from 제너레이터\n",
    "```"
   ]
  },
  {
   "cell_type": "code",
   "execution_count": 13,
   "metadata": {},
   "outputs": [
    {
     "name": "stdout",
     "output_type": "stream",
     "text": [
      "0 number_generator\n",
      "0\n",
      "1\n",
      "2\n"
     ]
    }
   ],
   "source": [
    "def number_generator():\n",
    "    yield 0\n",
    "    yield 1\n",
    "    yield 2\n",
    "\n",
    "number = number_generator()\n",
    "print(number.__next__(), \"number_generator\")\n",
    "\n",
    "# 값을 여러번 바깥으로 전달\n",
    "def number_generator2(stop):\n",
    "    n = 0\n",
    "    while n < stop:\n",
    "        yield n\n",
    "        n += 1\n",
    "\n",
    "for i in number_generator2(3):\n",
    "    print(i)"
   ]
  },
  {
   "cell_type": "markdown",
   "metadata": {},
   "source": [
    "## 제너레이터 표현식\n",
    "\n",
    "리스트 표현식을 [] 대괄호 대신 () 괄호로 묶으면 제너레이터 표현식이 된다.\n",
    "```python\n",
    "(식 for 변수 in 반복가능한객체)\n",
    "(i for i in range(100))\n",
    "```"
   ]
  },
  {
   "cell_type": "markdown",
   "metadata": {},
   "source": [
    "## 코루틴\n",
    "\n",
    "코루틴은 두 루틴이 대등한 관계인 상태에서 특정 시점에 상대방의 코드를 실행하는 방식이다.\n",
    "또한, 코루틴은 제너레이터의 특별한 형태이며 yield로 값을 받아올 수 있다.\n",
    "\n",
    "코루틴에 값을 보내면서 코드를 실행할 때는 send 메서드를 사용하고, send 메서드가 보낸 값을 받아오려면 (yield)와 같이 yield를 괄호로 몪어준 뒤에 변수에 저장한다.\n",
    "\n",
    "```python\n",
    "def 코루틴이름():\n",
    "    while True:\n",
    "        변수 = (yield)  # 코루틴 바깥에서 값을 받아옴\n",
    "\n",
    "코루틴객체 = 코루틴()\n",
    "next(코루틴객체)  # 코루틴 안의 yield까지 코드 실행(최초 실행), __next__ 메서드도 같음\n",
    "코루틴객체.send(값)  # 코루틴에 값을 보냄\n",
    "```\n",
    "\n",
    "코루틴 바깥으로 값을 전달할 때는 yield 뒤에 값(변수)을 지정한 뒤 괄호로 묶어준다.\n",
    "yield를 사용하여 바깥으로 전달한 값은 next 함수(```__next__``` 메서드)와 send 메서드의 반환값으로 나온다.\n",
    "\n",
    "```python\n",
    "def 코루틴이름():\n",
    "    while True:\n",
    "        변수 = (yield 변수)  # 코루틴 바깥에서 값을 받아오면서 바깥으로 값을 전달\n",
    "\n",
    "코루틴객체 = 코루틴()\n",
    "변수 = next(코루틴객체)  # 코루틴 안의 yield까지 코드를 실행하고 코루틴에서 나온 값 반환\n",
    "변수 = 코루틴객체.send(값)  # 코루틴에 값을 보내고 코루틴에서 나온 값 반환"
   ]
  },
  {
   "cell_type": "markdown",
   "metadata": {},
   "source": [
    "## 코루틴 종료와 예외 처리\n",
    "\n",
    "코루틴을 강제로 종료할 때는 코루틴 객체에서 close 메서드를 사용한다.\n",
    "close 메서드를 사용하면 코루틴이 종료될 때 GeneratorExit 예외가 발생한다.\n",
    "\n",
    "```python\n",
    "def 코루틴이름():\n",
    "    try:\n",
    "        실행할 코드\n",
    "    except GeneratorExit:  # 코루틴이 종료될 때 GeneratorExit 예외 발생\n",
    "        예외가 발생했을 때 처리하는 코드\n",
    "\n",
    "코루틴객체 = 코루틴()\n",
    "next(코루틴객체)\n",
    "코루틴객체.close()  # 코루틴 종료\n",
    "```\n",
    "\n",
    "코루틴 안에서 예외를 발생 시키려면 throw 메서드를 사용한다.\n",
    "코루틴 안의 except에서 yield를 사용하여 바깥으로 전달한 값은 throw 메서드의 반환값으로 나온다.\n",
    "\n",
    "```python\n",
    "def 코루틴이름():\n",
    "    try:\n",
    "        실행할 코드\n",
    "    except 예외이름 as e:  # e에는 throw 메서드에 지정한 에러 메시지가 들어감\n",
    "        yield 값  # except에서 yield에 지정한 값은 throw 메서드의 반환값으로 나옴\n",
    "\n",
    "코루틴객체 = 코루틴()\n",
    "next(코루틴객체)\n",
    "코루틴객체.throw(예외이름, 에러메시지)  # 코루틴 안에 예외 발생"
   ]
  },
  {
   "cell_type": "markdown",
   "metadata": {},
   "source": [
    "## 하위 코루틴의 반환값 가져오기\n",
    "\n",
    "yield from에 코루틴을 지정하면 해당 코루틴에서 return으로 반환값을 가져온다.\n",
    "코루틴 안에서 return 값은 raise StopIteration(값)과 동작이 같다(python 3.6이하)\n",
    "\n",
    "```python\n",
    "def 코루틴A():\n",
    "    변수 = (yield)  # 코루틴 바깥에서 값을 가져옴\n",
    "    return 값  # return으로 값을 반환, raise StopIteraton(값)과 동작이 같음\n",
    "\n",
    "def 코루틴B():\n",
    "    변수 = yield from 코루틴A()  # 코루틴A의 반환 값을 가져옴"
   ]
  }
 ],
 "metadata": {
  "kernelspec": {
   "display_name": "Python 3.10.4 ('basic')",
   "language": "python",
   "name": "python3"
  },
  "language_info": {
   "codemirror_mode": {
    "name": "ipython",
    "version": 3
   },
   "file_extension": ".py",
   "mimetype": "text/x-python",
   "name": "python",
   "nbconvert_exporter": "python",
   "pygments_lexer": "ipython3",
   "version": "3.10.4"
  },
  "orig_nbformat": 4,
  "vscode": {
   "interpreter": {
    "hash": "c8f0a417b36daf86aafec4013139ac5baf8e417b175f66de0fc0829ed0d1013f"
   }
  }
 },
 "nbformat": 4,
 "nbformat_minor": 2
}
