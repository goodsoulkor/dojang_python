{
 "cells": [
  {
   "cell_type": "markdown",
   "metadata": {},
   "source": [
    "# 41.2 코루틴 바깥으로 값 전달하기\n",
    "\n",
    "다음과 같이 (yield 변수) 형식으로 yield에 변수를 지정한 뒤 괄호로 묶어주면 값을 받아오면서 바깥으로 값을 전달한다.\n",
    "그리고 next 함수(```__next__``` 메서드)와 send 메서드의 반환값으로 나온다."
   ]
  },
  {
   "cell_type": "code",
   "execution_count": 1,
   "metadata": {},
   "outputs": [
    {
     "name": "stdout",
     "output_type": "stream",
     "text": [
      "0\n",
      "1\n",
      "3\n",
      "6\n"
     ]
    }
   ],
   "source": [
    "def sum_coroutine():\n",
    "    total = 0\n",
    "    while True:\n",
    "        x = (yield total)  # 코루틴 바깥에서 값을 받아오면서 바깥으로 값을 전달\n",
    "        total += x\n",
    "\n",
    "co = sum_coroutine()\n",
    "print(next(co))  # 0: 코루틴 안의 yield까지 코드를 실행하고 코루틴에서 나온 값 출력\n",
    "print(co.send(1))  # 1: 코루틴에 숫자 1을 보내고 코루틴에서 나온 값 출력\n",
    "print(co.send(2))  # 3: 코루틴에 숫자 2를 보내고 코루틴에서 나온 값 출력\n",
    "print(co.send(3))  # 6: 코루틴에 숫자 3을 보내고 코루틴에서 나온 값 출력\n",
    "\n",
    "# next와 send의 차이는 next는 값을 보내지 않을 때 사용하고 send는 값을 보낼때 사용"
   ]
  },
  {
   "cell_type": "markdown",
   "metadata": {},
   "source": [
    "제너레이터와 코루틴의 차이점\n",
    "- 제너레이터는 next 함수(```__next__``` 메서드)를 반복 호출하여 값을 얻어내는 방식\n",
    "- 코루틴은 next 함수(```__next__``` 메서드)를 한 번만 호출한 뒤 send로 값을 주고 받는 방식"
   ]
  },
  {
   "cell_type": "markdown",
   "metadata": {},
   "source": [
    "> 참고: 값을 보내지 않고 코루틴의 코드 실행하기  \n",
    "> next 함수 (```__next__``` 메서드)만 사용하면 된다."
   ]
  }
 ],
 "metadata": {
  "kernelspec": {
   "display_name": "Python 3.10.4 ('basic')",
   "language": "python",
   "name": "python3"
  },
  "language_info": {
   "codemirror_mode": {
    "name": "ipython",
    "version": 3
   },
   "file_extension": ".py",
   "mimetype": "text/x-python",
   "name": "python",
   "nbconvert_exporter": "python",
   "pygments_lexer": "ipython3",
   "version": "3.10.4"
  },
  "orig_nbformat": 4,
  "vscode": {
   "interpreter": {
    "hash": "c8f0a417b36daf86aafec4013139ac5baf8e417b175f66de0fc0829ed0d1013f"
   }
  }
 },
 "nbformat": 4,
 "nbformat_minor": 2
}
