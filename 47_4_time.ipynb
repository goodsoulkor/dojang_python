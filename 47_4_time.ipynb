{
 "cells": [
  {
   "cell_type": "markdown",
   "metadata": {},
   "source": [
    "### 47.4.1 time 모듈로 현재 시간 구하기\n",
    "\n",
    "time 모듈의 time 함수를 호출하면 1970년 1월 1일 0시 0분 0초 이후 경과한 시간을 초단위로 반환한다."
   ]
  },
  {
   "cell_type": "code",
   "execution_count": 1,
   "metadata": {},
   "outputs": [
    {
     "data": {
      "text/plain": [
       "1662011500.659111"
      ]
     },
     "execution_count": 1,
     "metadata": {},
     "output_type": "execute_result"
    }
   ],
   "source": [
    "import time\n",
    "\n",
    "time.time()"
   ]
  },
  {
   "cell_type": "markdown",
   "metadata": {},
   "source": [
    "### 47.4.2 날짜와 시간 형태로 변환하기\n",
    "\n",
    "time 모듈의 localtime 함수를 사용하면 time에서 반환한 값을 날짜와 시간 형태로 변환한다.\n",
    "localtime이라는 이름 그대로 현재 지역의 시간대를 사용한다.(우리나라에서 실행했다면 한국 표준시를 사용)"
   ]
  },
  {
   "cell_type": "code",
   "execution_count": 2,
   "metadata": {},
   "outputs": [
    {
     "data": {
      "text/plain": [
       "time.struct_time(tm_year=2022, tm_mon=9, tm_mday=1, tm_hour=14, tm_min=53, tm_sec=48, tm_wday=3, tm_yday=244, tm_isdst=0)"
      ]
     },
     "execution_count": 2,
     "metadata": {},
     "output_type": "execute_result"
    }
   ],
   "source": [
    "time.localtime(time.time())"
   ]
  },
  {
   "cell_type": "markdown",
   "metadata": {},
   "source": [
    "### 47.4.3 날짜/시간 포맷에 맞춰서 출력하기\n",
    "\n",
    "time.localtime으로 만든 객체는 time.strftime 함수를 사용하여 원하는 날짜/시간 포맷으로 출력할 수 있다.\n",
    "- `time.strftime(\"포맷\", 시간객체)`"
   ]
  },
  {
   "cell_type": "code",
   "execution_count": 5,
   "metadata": {},
   "outputs": [
    {
     "name": "stdout",
     "output_type": "stream",
     "text": [
      "2022-09-01\n",
      "Thu Sep  1 15:55:12 2022\n"
     ]
    }
   ],
   "source": [
    "print(time.strftime(\"%Y-%m-%d\", time.localtime(time.time())))\n",
    "print(time.strftime(\"%c\", time.localtime(time.time())))"
   ]
  },
  {
   "cell_type": "markdown",
   "metadata": {},
   "source": [
    "날짜/시간 포맷 코드\n",
    "\n",
    "| 코드     | 설명     | 예   |\n",
    "| :------------: | :------------: | :------------: |\n",
    "| %a       | 요일 줄임말       | Sun, Mon, ... Sat     |\n",
    "| %A | 요일 | Sunday, Monday, ..., Saturday |\n",
    "| %w | 요일을 숫자로 표시 | 0, 1, 2, ..., 6 |\n",
    "| %d | 일 | 01, 02, ..., 31|\n",
    "| %b | 월 줄임말 | Jan, Feb, ..., Dec |\n",
    "| %B | 월 | January, February, ..., December |\n",
    "| %m | 숫자 월 | 01, 02, ..., 12 |\n",
    "| %y | 두 자릿수 연도 | 01, 02, ... 99 |\n",
    "| %Y | 네 자릿수 연도 | 0001 0002, ..., 2017, 9999 |\n",
    "| %H | 시간(24시간) | 00, 01, 02, ..., 23 |\n",
    "| %I | 시간(12시간) | 01, 02, ..., 12 |\n",
    "| %p | AM, PM | AM, PM |\n",
    "| %M | 분 | 00, 01, ..., 59 |\n",
    "| %S | 초 | 00, 01, ..., 59 |\n",
    "| %Z | 시간대 | 대한민국 표준시 |\n",
    "| %j | 1월 1일부터 경과한 일 수 | 001, 002, ..., 366 |\n",
    "| %U | 1년중 주차, 월요일이 한 주의 시작으로 | 00, 01, ..., 53 |\n",
    "| %W | 1년중 주차, 월요일이 한 주의 시작으로 | 00, 01, ..., 53 |\n",
    "| %c | 날짜, 요일, 시간을 출력, 현재 시간대 기준 | Sat May 19 11:14:27 2018 |\n",
    "| %x | 날짜를 출력, 현재 시간대 기준 | 05/19/18 |\n",
    "| %X | 시간을 출력, 현재 시간대 기준 | '11:44:22' |"
   ]
  },
  {
   "cell_type": "markdown",
   "metadata": {},
   "source": [
    "### 47.4.4 datetime 모듈로 현재 날짜와 시간 구하기\n",
    "\n",
    "datetime.datetime으로 현재 날짜와 시간을 구할 때는 today 메서드를 사용\n",
    "- `datetime.datetime.today()`"
   ]
  },
  {
   "cell_type": "code",
   "execution_count": 8,
   "metadata": {},
   "outputs": [
    {
     "data": {
      "text/plain": [
       "datetime.datetime(2022, 9, 1, 16, 25, 30, 17780)"
      ]
     },
     "execution_count": 8,
     "metadata": {},
     "output_type": "execute_result"
    }
   ],
   "source": [
    "import datetime\n",
    "\n",
    "datetime.datetime.today()"
   ]
  },
  {
   "cell_type": "markdown",
   "metadata": {},
   "source": [
    "### 47.4.5 특정 날짜와 시간으로 객체 만들기\n",
    "\n",
    "datetime.datetime에 연, 월, 일, 시, 분, 초, 마이크로초를 넣어서 객체를 만들 수 있다.\n",
    "- `datetime.datetime(year, month, day, hour=0, minute=0, second=0, microsecond=0`"
   ]
  },
  {
   "cell_type": "code",
   "execution_count": 9,
   "metadata": {},
   "outputs": [
    {
     "data": {
      "text/plain": [
       "datetime.datetime(2018, 5, 19, 0, 0)"
      ]
     },
     "execution_count": 9,
     "metadata": {},
     "output_type": "execute_result"
    }
   ],
   "source": [
    "d = datetime.datetime(2018, 5, 19)\n",
    "d"
   ]
  },
  {
   "cell_type": "markdown",
   "metadata": {},
   "source": [
    "### 47.4.6 문자열로 날짜/시간 객체 만들기\n",
    "\n",
    "strftime 메서드를 사용하면 문자열 형태의 날짜를 datetime.datetime 객체로 만들 수 있다.\n",
    "이때는 날짜/시간 포맷을 지정해줘야 한다.\n",
    "- `datetime.datetime.strftime('날짜문자열', '포맷')`"
   ]
  },
  {
   "cell_type": "code",
   "execution_count": 10,
   "metadata": {},
   "outputs": [
    {
     "data": {
      "text/plain": [
       "datetime.datetime(2018, 5, 19, 0, 0)"
      ]
     },
     "execution_count": 10,
     "metadata": {},
     "output_type": "execute_result"
    }
   ],
   "source": [
    "d = datetime.datetime.strptime(\"2018-05-19\", \"%Y-%m-%d\")\n",
    "d"
   ]
  },
  {
   "cell_type": "markdown",
   "metadata": {},
   "source": [
    "### 47.4.7 날짜/시간 객체를 문자열로 만들기\n",
    "\n",
    "datetime 객체를 문자열로 만들 때는 strftime 메서드를 사용한다.\n",
    "- `datetime객체.strftime('포맷')`"
   ]
  },
  {
   "cell_type": "code",
   "execution_count": 12,
   "metadata": {},
   "outputs": [
    {
     "name": "stdout",
     "output_type": "stream",
     "text": [
      "2018-05-19\n",
      "Sat May 19 00:00:00 2018\n"
     ]
    }
   ],
   "source": [
    "print(d.strftime(\"%Y-%m-%d\"))\n",
    "print(d.strftime(\"%c\"))"
   ]
  },
  {
   "cell_type": "markdown",
   "metadata": {},
   "source": [
    "### 47.4.8 날짜와 시간 속성에 접근하기\n",
    "\n",
    "datetime.datetime 객체는 연, 월, 일, 시, 분, 초, 마이크로초 속성을 따로 가져올 수 있다."
   ]
  },
  {
   "cell_type": "code",
   "execution_count": 14,
   "metadata": {},
   "outputs": [
    {
     "data": {
      "text/plain": [
       "(2022, 9, 1, 16, 35, 10, 691586)"
      ]
     },
     "execution_count": 14,
     "metadata": {},
     "output_type": "execute_result"
    }
   ],
   "source": [
    "today = datetime.datetime.today()\n",
    "today.year, today.month, today.day, today.hour, today.minute, today.second, today.microsecond"
   ]
  },
  {
   "cell_type": "markdown",
   "metadata": {},
   "source": [
    "### 47.4.8 날짜와 시간 차이 계산하기\n",
    "\n",
    "datetime.timedelta는 두 날짜와 시간 사이의 차이를 계산한다.\n",
    "- `datetime.timedelta(days=0, second=0, microseconds=0, milliseconds=0, minutes=0, hours=0, weeks=0`"
   ]
  },
  {
   "cell_type": "code",
   "execution_count": 15,
   "metadata": {},
   "outputs": [
    {
     "data": {
      "text/plain": [
       "datetime.datetime(2018, 4, 23, 0, 0)"
      ]
     },
     "execution_count": 15,
     "metadata": {},
     "output_type": "execute_result"
    }
   ],
   "source": [
    "# 2018년 5월 13일에서 20일 전 날짜를 구한다.\n",
    "d = datetime.datetime(2018, 5, 13)\n",
    "from datetime import timedelta\n",
    "d - timedelta(days=20)"
   ]
  },
  {
   "cell_type": "code",
   "execution_count": 16,
   "metadata": {},
   "outputs": [
    {
     "data": {
      "text/plain": [
       "datetime.timedelta(days=42)"
      ]
     },
     "execution_count": 16,
     "metadata": {},
     "output_type": "execute_result"
    }
   ],
   "source": [
    "# datetime.datetime 객체에서 datetime.datetime 객체를 빼면 datetime.timedelta 객체가 나온다.\n",
    "datetime.datetime(2018, 5, 13) - datetime.datetime(2018, 4, 1)"
   ]
  }
 ],
 "metadata": {
  "kernelspec": {
   "display_name": "Python 3.10.4 ('basic')",
   "language": "python",
   "name": "python3"
  },
  "language_info": {
   "codemirror_mode": {
    "name": "ipython",
    "version": 3
   },
   "file_extension": ".py",
   "mimetype": "text/x-python",
   "name": "python",
   "nbconvert_exporter": "python",
   "pygments_lexer": "ipython3",
   "version": "3.10.4"
  },
  "orig_nbformat": 4,
  "vscode": {
   "interpreter": {
    "hash": "c8f0a417b36daf86aafec4013139ac5baf8e417b175f66de0fc0829ed0d1013f"
   }
  }
 },
 "nbformat": 4,
 "nbformat_minor": 2
}
